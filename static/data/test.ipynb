{
 "metadata": {
  "language_info": {
   "codemirror_mode": {
    "name": "ipython",
    "version": 3
   },
   "file_extension": ".py",
   "mimetype": "text/x-python",
   "name": "python",
   "nbconvert_exporter": "python",
   "pygments_lexer": "ipython3",
   "version": "3.6.10-final"
  },
  "orig_nbformat": 2,
  "kernelspec": {
   "name": "python3610jvsc74a57bd039cf81ff75551f3ea7268a5731633db08a0e59f6bdbd7d1519c41c672b5e67ae",
   "display_name": "Python 3.6.10 64-bit"
  }
 },
 "nbformat": 4,
 "nbformat_minor": 2,
 "cells": [
  {
   "cell_type": "code",
   "execution_count": 1,
   "metadata": {},
   "outputs": [],
   "source": [
    "import requests\n",
    "import json\n",
    "import sqlite3\n",
    "from sqlite3 import Error\n",
    "import pandas as pd"
   ]
  },
  {
   "cell_type": "code",
   "execution_count": null,
   "metadata": {
    "tags": [
     "outputPrepend"
    ]
   },
   "outputs": [],
   "source": [
    "headers = {\n",
    "    'x-rapidapi-key': \"38bab05df5msh928211553580d9cp181186jsne583ad5bd5cd\",\n",
    "    'x-rapidapi-host': \"free-nba.p.rapidapi.com\"\n",
    "    }\n",
    "page = 1\n",
    "results = []\n",
    "while True:\n",
    "\n",
    "\n",
    "    url = \"https://free-nba.p.rapidapi.com/stats\"\n",
    "\n",
    "    querystring = {\"page\": page,\"per_page\":\"100\"}\n",
    "    response = requests.request(\"GET\", url, headers=headers, params=querystring)\n",
    "    data = response.json()\n",
    "    if len(data['data']) <= 0:\n",
    "        break\n",
    "    results += data['data']\n",
    "    print(response.json())\n",
    "    break\n",
    "\n",
    "    page += 1\n",
    "\n",
    "    print(response.json())\n",
    "\n"
   ]
  },
  {
   "cell_type": "code",
   "execution_count": null,
   "metadata": {
    "tags": []
   },
   "outputs": [],
   "source": [
    "with open(\"data.json\", \"w\") as data_file:\n",
    "    json.dump(results, data_file, indent=4)\n",
    "    data_file.close()"
   ]
  },
  {
   "cell_type": "code",
   "execution_count": null,
   "metadata": {
    "tags": []
   },
   "outputs": [],
   "source": [
    "print(data[\"data\"][0]['fg3_pct'])"
   ]
  },
  {
   "cell_type": "code",
   "execution_count": 6,
   "metadata": {},
   "outputs": [
    {
     "output_type": "stream",
     "name": "stdout",
     "text": [
      "2.6.0\ntable players already exists\n"
     ]
    }
   ],
   "source": [
    "def create_connection(db_file):\n",
    "    \"\"\" create a database connection to a SQLite database \"\"\"\n",
    "    conn = None\n",
    "    try:\n",
    "        conn = sqlite3.connect(db_file)\n",
    "        c = conn.cursor()\n",
    "        print(sqlite3.version)\n",
    "        c.execute('''CREATE TABLE players (PLAYER_NAME text, TEAM_ID text, PLAYER_ID text, SEASON int)''')\n",
    "        players = pd.read_csv('players.csv')\n",
    "        players.to_sql('players', conn, if_exists='append', index=False)\n",
    "        c.execute('''SELECT * FROM players''').fetchall()\n",
    "\n",
    "    except Error as e:\n",
    "        print(e)\n",
    "    finally:\n",
    "        if conn:\n",
    "            conn.close()\n",
    "\n",
    "\n",
    "if __name__ == '__main__':\n",
    "    create_connection(r\"nba_test.db\")"
   ]
  },
  {
   "cell_type": "code",
   "execution_count": 9,
   "metadata": {},
   "outputs": [],
   "source": [
    "import sqlite3\n",
    "\n",
    "conn = sqlite3.connect('nba_test')\n",
    "c = conn.cursor()"
   ]
  },
  {
   "cell_type": "code",
   "execution_count": 10,
   "metadata": {},
   "outputs": [
    {
     "output_type": "execute_result",
     "data": {
      "text/plain": [
       "<sqlite3.Cursor at 0x7fe401c87500>"
      ]
     },
     "metadata": {},
     "execution_count": 10
    }
   ],
   "source": [
    "c.execute('''CREATE TABLE players (PLAYER_NAME text, TEAM_ID text, PLAYER_ID text, SEASON int)''')"
   ]
  },
  {
   "cell_type": "code",
   "execution_count": 12,
   "metadata": {},
   "outputs": [],
   "source": [
    "players = pd.read_csv('players.csv')\n",
    "players.to_sql('players', conn, if_exists='append', index=False)\n"
   ]
  },
  {
   "cell_type": "code",
   "execution_count": 13,
   "metadata": {},
   "outputs": [
    {
     "output_type": "execute_result",
     "data": {
      "text/plain": [
       "[(\"Royce O'Neale\", '1610612762', '1626220', 2019),\n",
       " ('Bojan Bogdanovic', '1610612762', '202711', 2019),\n",
       " ('Rudy Gobert', '1610612762', '203497', 2019),\n",
       " ('Donovan Mitchell', '1610612762', '1628378', 2019),\n",
       " ('Mike Conley', '1610612762', '201144', 2019)]"
      ]
     },
     "metadata": {},
     "execution_count": 13
    }
   ],
   "source": [
    "c.execute('''SELECT * FROM players LIMIT 5''').fetchall()"
   ]
  },
  {
   "cell_type": "code",
   "execution_count": 14,
   "metadata": {},
   "outputs": [],
   "source": [
    "teams = pd.read_csv('teams.csv')\n",
    "teams.to_sql('teams', conn, if_exists='append', index=False)\n",
    "games = pd.read_csv('games.csv')\n",
    "games.to_sql('games', conn, if_exists='append', index=False)\n",
    "games_details = pd.read_csv('games_details.csv')\n",
    "games_details.to_sql('games_details', conn, if_exists='append', index=False)"
   ]
  },
  {
   "cell_type": "code",
   "execution_count": null,
   "metadata": {},
   "outputs": [],
   "source": []
  }
 ]
}