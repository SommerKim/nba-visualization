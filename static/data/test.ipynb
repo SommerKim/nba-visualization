{
 "metadata": {
  "language_info": {
   "codemirror_mode": {
    "name": "ipython",
    "version": 3
   },
   "file_extension": ".py",
   "mimetype": "text/x-python",
   "name": "python",
   "nbconvert_exporter": "python",
   "pygments_lexer": "ipython3",
   "version": "3.6.10-final"
  },
  "orig_nbformat": 2,
  "kernelspec": {
   "name": "python3610jvsc74a57bd039cf81ff75551f3ea7268a5731633db08a0e59f6bdbd7d1519c41c672b5e67ae",
   "display_name": "Python 3.6.10 64-bit"
  }
 },
 "nbformat": 4,
 "nbformat_minor": 2,
 "cells": [
  {
   "cell_type": "code",
   "execution_count": null,
   "metadata": {},
   "outputs": [],
   "source": [
    "import requests\n",
    "import json\n",
    "import sqlite3\n",
    "from sqlite3 import Error\n",
    "import pandas as pd\n",
    "from datetime import datetime"
   ]
  },
  {
   "cell_type": "code",
   "execution_count": null,
   "metadata": {
    "tags": [
     "outputPrepend"
    ]
   },
   "outputs": [],
   "source": [
    "# headers = {\n",
    "#     'x-rapidapi-key': \"38bab05df5msh928211553580d9cp181186jsne583ad5bd5cd\",\n",
    "#     'x-rapidapi-host': \"free-nba.p.rapidapi.com\"\n",
    "#     }\n",
    "# page = 1\n",
    "# results = []\n",
    "# while True:\n",
    "\n",
    "\n",
    "#     url = \"https://free-nba.p.rapidapi.com/stats\"\n",
    "\n",
    "#     querystring = {\"page\": page,\"per_page\":\"100\"}\n",
    "#     response = requests.request(\"GET\", url, headers=headers, params=querystring)\n",
    "#     data = response.json()\n",
    "#     if len(data['data']) <= 0:\n",
    "#         break\n",
    "#     results += data['data']\n",
    "#     print(response.json())\n",
    "#     break\n",
    "\n",
    "#     page += 1\n",
    "\n",
    "#     print(response.json())\n",
    "\n"
   ]
  },
  {
   "cell_type": "code",
   "execution_count": null,
   "metadata": {},
   "outputs": [],
   "source": [
    "# query nba api for all team data\n",
    "import requests\n",
    "\n",
    "url = \"https://free-nba.p.rapidapi.com/teams\"\n",
    "\n",
    "querystring = {\"page\":\"0\"}\n",
    "\n",
    "headers = {\n",
    "    'x-rapidapi-key': \"38bab05df5msh928211553580d9cp181186jsne583ad5bd5cd\",\n",
    "    'x-rapidapi-host': \"free-nba.p.rapidapi.com\"\n",
    "    }\n",
    "\n",
    "response = requests.request(\"GET\", url, headers=headers, params=querystring)\n",
    "# store response in variable\n",
    "data = response.json()\n",
    "\n",
    "print(data)"
   ]
  },
  {
   "cell_type": "code",
   "execution_count": null,
   "metadata": {},
   "outputs": [],
   "source": [
    "with open('team_data.json', 'w') as json_file:\n",
    "    json.dump(data, json_file, indent=2)\n",
    "    json_file.close()"
   ]
  },
  {
   "cell_type": "code",
   "execution_count": null,
   "metadata": {
    "tags": []
   },
   "outputs": [],
   "source": [
    "with open('team_data.json') as json_file:\n",
    "    data = json.load(json_file)\n",
    "    "
   ]
  },
  {
   "cell_type": "code",
   "execution_count": null,
   "metadata": {},
   "outputs": [],
   "source": [
    "team_data = pd.json_normalize(data)\n",
    "team_data.to_csv(r'team_data.csv', index=False)"
   ]
  },
  {
   "cell_type": "code",
   "execution_count": null,
   "metadata": {},
   "outputs": [],
   "source": [
    "\n",
    "# # found how to create db in sqlite3 here:  https://www.sqlitetutorial.net/sqlite-python/insert/\n",
    "\n",
    "# def create_connection(db_file):\n",
    "#     \"\"\" create a database connection to a SQLite database \"\"\"\n",
    "#     conn = None\n",
    "#     try:\n",
    "#         conn = sqlite3.connect(db_file)\n",
    "#         c = conn.cursor()\n",
    "#         print(sqlite3.version)\n",
    "#         # this is extra code to create table and load csv into table.  Was testing here\n",
    "#         c.execute('''CREATE TABLE players (PLAYER_NAME text, TEAM_ID text, PLAYER_ID text, SEASON int)''')\n",
    "#         players = pd.read_csv('players.csv')\n",
    "#         players.to_sql('players', conn, if_exists='append', index=False)\n",
    "#         c.execute('''SELECT * FROM players''').fetchall()\n",
    "\n",
    "#     except Error as e:\n",
    "#         print(e)\n",
    "#     finally:\n",
    "#         if conn:\n",
    "#             conn.close()\n",
    "\n",
    "\n",
    "# if __name__ == '__main__':\n",
    "#     create_connection(r\"nba_test.db\")"
   ]
  },
  {
   "cell_type": "code",
   "execution_count": null,
   "metadata": {},
   "outputs": [],
   "source": [
    "# another method of creating db and tables but without function: https://mungingdata.com/sqlite/create-database-load-csv-python/\n",
    "import sqlite3\n",
    "# create connection to build new db if nonexistent and cursor to execute queries\n",
    "conn = sqlite3.connect('nba_test')\n",
    "c = conn.cursor()"
   ]
  },
  {
   "cell_type": "code",
   "execution_count": null,
   "metadata": {},
   "outputs": [],
   "source": [
    "# create table players **testing to see if works**\n",
    "c.execute('''CREATE TABLE players (PLAYER_NAME text, TEAM_ID text, PLAYER_ID text, SEASON int)''')"
   ]
  },
  {
   "cell_type": "code",
   "execution_count": null,
   "metadata": {},
   "outputs": [],
   "source": [
    "# using pandas to read csv then push data to table created in last cell\n",
    "players = pd.read_csv('players.csv')\n",
    "players.to_sql('players', conn, if_exists='append', index=False)\n"
   ]
  },
  {
   "cell_type": "code",
   "execution_count": null,
   "metadata": {},
   "outputs": [],
   "source": [
    "# querying table to verify creation\n",
    "c.execute('''SELECT * FROM players LIMIT 5''').fetchall()"
   ]
  },
  {
   "cell_type": "code",
   "execution_count": null,
   "metadata": {},
   "outputs": [],
   "source": [
    "# create rest of tables\n",
    "teams = pd.read_csv('teams.csv')\n",
    "teams.to_sql('teams', conn, if_exists='append', index=False)\n",
    "games = pd.read_csv('games.csv')\n",
    "games.to_sql('games', conn, if_exists='append', index=False)\n",
    "games_details = pd.read_csv('games_details.csv')\n",
    "games_details.to_sql('games_details', conn, if_exists='append', index=False)\n",
    "kobe = pd.read_csv('kobe_data.csv')\n",
    "kobe.to_sql('kobe', conn, if_exists='append', index=False)"
   ]
  },
  {
   "cell_type": "code",
   "execution_count": null,
   "metadata": {},
   "outputs": [],
   "source": [
    "# create sqlite table from Kobe csv\n",
    "kobe = pd.read_csv('kobe_data.csv')\n",
    "kobe.to_sql('kobe', conn, if_exists='append', index=False)"
   ]
  },
  {
   "cell_type": "code",
   "execution_count": null,
   "metadata": {},
   "outputs": [],
   "source": [
    "team_data = pd.read_csv('team_data.csv')\n",
    "team_data.to_sql('team_data', conn , if_exists='append', index=False)"
   ]
  },
  {
   "cell_type": "code",
   "execution_count": null,
   "metadata": {},
   "outputs": [],
   "source": [
    "c.execute('''SELECT * FROM kobe LIMIT 5''').fetchall()"
   ]
  },
  {
   "cell_type": "code",
   "execution_count": null,
   "metadata": {},
   "outputs": [],
   "source": [
    "# Kobe ID is 977, Lebron ID is 2544\n",
    "# testing select statement for filtering by player id\n",
    "c.execute('''SELECT * FROM players WHERE PLAYER_ID = 2544''').fetchall()"
   ]
  },
  {
   "cell_type": "code",
   "execution_count": null,
   "metadata": {},
   "outputs": [],
   "source": [
    "# testing the join statement to get actual game date from games table\n",
    "c.execute('''SELECT games.game_id, game_date_est, player_name, fg_pct, fg3_pct, REB, AST, STL, BLK,PF,PTS,PLUS_MINUS FROM games LEFT JOIN games_details ON games.game_id = games_details.game_id WHERE PLAYER_ID = 2544 LIMIT 5'')\n",
    "\n",
    "c.fetchall()"
   ]
  },
  {
   "cell_type": "code",
   "execution_count": null,
   "metadata": {},
   "outputs": [],
   "source": [
    "# testing select statement to query additional stats and filtering by player id\n",
    "# INNER JOIN games ON games.game_id = games_details.game_id  DIDN'T WORK\n",
    "c.execute('''SELECT [game.date] from kobe LIMIT 10''').fetchall()\n"
   ]
  },
  {
   "cell_type": "code",
   "execution_count": null,
   "metadata": {},
   "outputs": [],
   "source": [
    "c.execute('''UPDATE kobe SET [game.date] = DATE_FORMAT(STR_TO_DATE([game.date], '%Y-%m-%dT%H:%i:%s.000Z'),'%Y-%m-%d')''')"
   ]
  },
  {
   "cell_type": "code",
   "execution_count": null,
   "metadata": {},
   "outputs": [],
   "source": [
    "# testing select statement to query additional stats and filtering by player id in a DataFrame\n",
    "pd.read_sql('''SELECT TEAM_ABBREVIATION, PLAYER_NAME, FG_PCT, FG3_PCT, FT_PCT, PTS FROM games_details WHERE PLAYER_ID = 2544''', conn)\n"
   ]
  },
  {
   "cell_type": "code",
   "execution_count": null,
   "metadata": {},
   "outputs": [],
   "source": [
    "lebron_data = pd.read_sql('''SELECT teams.abbreviation AS opposing_team, visitor_team_id, team_abbreviation, games.game_id, game_date_est, player_name, fg_pct, fg3_pct, REB, AST, STL, BLK,PF,PTS,PLUS_MINUS FROM games LEFT JOIN games_details ON games.game_id = games_details.game_id LEFT JOIN teams ON teams.team_id = games.VISITOR_TEAM_ID WHERE PLAYER_ID = 2544''', conn)\n",
    "lebron_data"
   ]
  },
  {
   "cell_type": "code",
   "execution_count": null,
   "metadata": {},
   "outputs": [],
   "source": [
    "teamdata = pd.read_sql('''SELECT * FROM team_data''', conn)\n",
    "teamdata"
   ]
  },
  {
   "cell_type": "code",
   "execution_count": null,
   "metadata": {},
   "outputs": [],
   "source": [
    "pd.set_option('display.max_columns', None)"
   ]
  },
  {
   "cell_type": "code",
   "execution_count": 107,
   "metadata": {},
   "outputs": [
    {
     "output_type": "execute_result",
     "data": {
      "text/plain": [
       "      game_id  ast  blk    min   pts  reb  stl  turnover  \\\n",
       "0        2605  NaN  NaN   None   NaN  NaN  NaN       NaN   \n",
       "1        2605  NaN  NaN   None   NaN  NaN  NaN       NaN   \n",
       "2        2605  NaN  NaN   None   NaN  NaN  NaN       NaN   \n",
       "3        2605  NaN  NaN   None   NaN  NaN  NaN       NaN   \n",
       "4        3282  0.0  1.0   6:22   0.0  1.0  0.0       1.0   \n",
       "...       ...  ...  ...    ...   ...  ...  ...       ...   \n",
       "6679    33202  0.0  0.0  18:57  13.0  1.0  1.0       2.0   \n",
       "6680    33069  4.0  1.0  42:09  60.0  4.0  1.0       2.0   \n",
       "6681    33069  4.0  1.0  42:09  60.0  4.0  1.0       2.0   \n",
       "6682    33069  4.0  1.0  42:09  60.0  4.0  1.0       2.0   \n",
       "6683    33069  4.0  1.0  42:09  60.0  4.0  1.0       2.0   \n",
       "\n",
       "                          date  Year  home_team_id  home_team_score  \\\n",
       "0     1996-11-01T00:00:00.000Z  1996            14               96   \n",
       "1     1996-11-01T00:00:00.000Z  1996            14               96   \n",
       "2     1996-11-01T00:00:00.000Z  1996            14               96   \n",
       "3     1996-11-01T00:00:00.000Z  1996            14               96   \n",
       "4     1996-11-03T00:00:00.000Z  1996            14               91   \n",
       "...                        ...   ...           ...              ...   \n",
       "6679  2016-04-11T00:00:00.000Z  2016            21              112   \n",
       "6680  2016-04-13T00:00:00.000Z  2016            14              101   \n",
       "6681  2016-04-13T00:00:00.000Z  2016            14              101   \n",
       "6682  2016-04-13T00:00:00.000Z  2016            14              101   \n",
       "6683  2016-04-13T00:00:00.000Z  2016            14              101   \n",
       "\n",
       "      visitor_team_id  visitor_team_score  \n",
       "0                  24                  82  \n",
       "1                  24                  82  \n",
       "2                  24                  82  \n",
       "3                  24                  82  \n",
       "4                  18                  85  \n",
       "...               ...                 ...  \n",
       "6679               14                  79  \n",
       "6680               29                  96  \n",
       "6681               29                  96  \n",
       "6682               29                  96  \n",
       "6683               29                  96  \n",
       "\n",
       "[6684 rows x 14 columns]"
      ],
      "text/html": "<div>\n<style scoped>\n    .dataframe tbody tr th:only-of-type {\n        vertical-align: middle;\n    }\n\n    .dataframe tbody tr th {\n        vertical-align: top;\n    }\n\n    .dataframe thead th {\n        text-align: right;\n    }\n</style>\n<table border=\"1\" class=\"dataframe\">\n  <thead>\n    <tr style=\"text-align: right;\">\n      <th></th>\n      <th>game_id</th>\n      <th>ast</th>\n      <th>blk</th>\n      <th>min</th>\n      <th>pts</th>\n      <th>reb</th>\n      <th>stl</th>\n      <th>turnover</th>\n      <th>date</th>\n      <th>Year</th>\n      <th>home_team_id</th>\n      <th>home_team_score</th>\n      <th>visitor_team_id</th>\n      <th>visitor_team_score</th>\n    </tr>\n  </thead>\n  <tbody>\n    <tr>\n      <th>0</th>\n      <td>2605</td>\n      <td>NaN</td>\n      <td>NaN</td>\n      <td>None</td>\n      <td>NaN</td>\n      <td>NaN</td>\n      <td>NaN</td>\n      <td>NaN</td>\n      <td>1996-11-01T00:00:00.000Z</td>\n      <td>1996</td>\n      <td>14</td>\n      <td>96</td>\n      <td>24</td>\n      <td>82</td>\n    </tr>\n    <tr>\n      <th>1</th>\n      <td>2605</td>\n      <td>NaN</td>\n      <td>NaN</td>\n      <td>None</td>\n      <td>NaN</td>\n      <td>NaN</td>\n      <td>NaN</td>\n      <td>NaN</td>\n      <td>1996-11-01T00:00:00.000Z</td>\n      <td>1996</td>\n      <td>14</td>\n      <td>96</td>\n      <td>24</td>\n      <td>82</td>\n    </tr>\n    <tr>\n      <th>2</th>\n      <td>2605</td>\n      <td>NaN</td>\n      <td>NaN</td>\n      <td>None</td>\n      <td>NaN</td>\n      <td>NaN</td>\n      <td>NaN</td>\n      <td>NaN</td>\n      <td>1996-11-01T00:00:00.000Z</td>\n      <td>1996</td>\n      <td>14</td>\n      <td>96</td>\n      <td>24</td>\n      <td>82</td>\n    </tr>\n    <tr>\n      <th>3</th>\n      <td>2605</td>\n      <td>NaN</td>\n      <td>NaN</td>\n      <td>None</td>\n      <td>NaN</td>\n      <td>NaN</td>\n      <td>NaN</td>\n      <td>NaN</td>\n      <td>1996-11-01T00:00:00.000Z</td>\n      <td>1996</td>\n      <td>14</td>\n      <td>96</td>\n      <td>24</td>\n      <td>82</td>\n    </tr>\n    <tr>\n      <th>4</th>\n      <td>3282</td>\n      <td>0.0</td>\n      <td>1.0</td>\n      <td>6:22</td>\n      <td>0.0</td>\n      <td>1.0</td>\n      <td>0.0</td>\n      <td>1.0</td>\n      <td>1996-11-03T00:00:00.000Z</td>\n      <td>1996</td>\n      <td>14</td>\n      <td>91</td>\n      <td>18</td>\n      <td>85</td>\n    </tr>\n    <tr>\n      <th>...</th>\n      <td>...</td>\n      <td>...</td>\n      <td>...</td>\n      <td>...</td>\n      <td>...</td>\n      <td>...</td>\n      <td>...</td>\n      <td>...</td>\n      <td>...</td>\n      <td>...</td>\n      <td>...</td>\n      <td>...</td>\n      <td>...</td>\n      <td>...</td>\n    </tr>\n    <tr>\n      <th>6679</th>\n      <td>33202</td>\n      <td>0.0</td>\n      <td>0.0</td>\n      <td>18:57</td>\n      <td>13.0</td>\n      <td>1.0</td>\n      <td>1.0</td>\n      <td>2.0</td>\n      <td>2016-04-11T00:00:00.000Z</td>\n      <td>2016</td>\n      <td>21</td>\n      <td>112</td>\n      <td>14</td>\n      <td>79</td>\n    </tr>\n    <tr>\n      <th>6680</th>\n      <td>33069</td>\n      <td>4.0</td>\n      <td>1.0</td>\n      <td>42:09</td>\n      <td>60.0</td>\n      <td>4.0</td>\n      <td>1.0</td>\n      <td>2.0</td>\n      <td>2016-04-13T00:00:00.000Z</td>\n      <td>2016</td>\n      <td>14</td>\n      <td>101</td>\n      <td>29</td>\n      <td>96</td>\n    </tr>\n    <tr>\n      <th>6681</th>\n      <td>33069</td>\n      <td>4.0</td>\n      <td>1.0</td>\n      <td>42:09</td>\n      <td>60.0</td>\n      <td>4.0</td>\n      <td>1.0</td>\n      <td>2.0</td>\n      <td>2016-04-13T00:00:00.000Z</td>\n      <td>2016</td>\n      <td>14</td>\n      <td>101</td>\n      <td>29</td>\n      <td>96</td>\n    </tr>\n    <tr>\n      <th>6682</th>\n      <td>33069</td>\n      <td>4.0</td>\n      <td>1.0</td>\n      <td>42:09</td>\n      <td>60.0</td>\n      <td>4.0</td>\n      <td>1.0</td>\n      <td>2.0</td>\n      <td>2016-04-13T00:00:00.000Z</td>\n      <td>2016</td>\n      <td>14</td>\n      <td>101</td>\n      <td>29</td>\n      <td>96</td>\n    </tr>\n    <tr>\n      <th>6683</th>\n      <td>33069</td>\n      <td>4.0</td>\n      <td>1.0</td>\n      <td>42:09</td>\n      <td>60.0</td>\n      <td>4.0</td>\n      <td>1.0</td>\n      <td>2.0</td>\n      <td>2016-04-13T00:00:00.000Z</td>\n      <td>2016</td>\n      <td>14</td>\n      <td>101</td>\n      <td>29</td>\n      <td>96</td>\n    </tr>\n  </tbody>\n</table>\n<p>6684 rows × 14 columns</p>\n</div>"
     },
     "metadata": {},
     "execution_count": 107
    }
   ],
   "source": [
    "# query using new Kobe_data.csv from Kim\n",
    "#  Available Headers: id,ast,blk,dreb,min,pts,reb,stl,turnover,game.id,game.date,game.home_team_id,game.home_team_score,game.period,game.postseason,game.season,game.status,game.time,game.visitor_team_id,game.visitor_team_score,player.id,player.first_name,player.last_name,player.position,player.team_id,team.id,team.abbreviation,team.city,team.conference,team.division,team.full_name,team.name\n",
    "# found solution for datetime formatting here: https://www.tutlane.com/tutorial/sqlite/sqlite-strftime-function\n",
    "Kobe_stats = pd.read_sql('''SELECT [game.id] as \"game_id\", ast,blk,min,pts,reb,stl,turnover, [game.date] as \"date\", strftime('%Y', [game.date]) as \"Year\",[game.home_team_id] as \"home_team_id\",[game.home_team_score] as \"home_team_score\", [game.visitor_team_id] as \"visitor_team_id\",[game.visitor_team_score] as \"visitor_team_score\" FROM kobe ORDER BY date ASC''', conn)\n",
    "# Kobe_stats['game.date'] = pd.to_datetime(Kobe_stats['game.date']).dt.date \n",
    "Kobe_stats"
   ]
  },
  {
   "cell_type": "code",
   "execution_count": null,
   "metadata": {},
   "outputs": [],
   "source": [
    "c.execute('''SELECT [game.id] as \"game_id\", ast,blk,min,pts,reb,stl,turnover, [game.date] as \"date\", strftime('%Y', [game.date]) as \"Year\",[game.home_team_id] as \"home_team_id\",[game.home_team_score] as \"home_team_score\", [game.visitor_team_id] as \"visitor_team_id\",[game.visitor_team_score] as \"visitor_team_score\" FROM kobe ORDER BY date ASC''').fetchall()"
   ]
  },
  {
   "source": [
    "# c.execute('''SELECT [game.id] as \"game_id\" FROM kobe''').fetchall()\n",
    "# I suspect there are duplicates in the table\n",
    "kobe_total_game_id = c.execute('''SELECT COUNT([game.id]) FROM kobe''').fetchall()\n",
    "kobe_unique_game_id = c.execute('''SELECT COUNT(DISTINCT [game.id]) FROM kobe''').fetchall()\n",
    "print(f'There are {kobe_total_game_id} total records in the Kobe table')\n",
    "print(f'There are {kobe_unique_game_id} unique records in the Kobe table')"
   ],
   "cell_type": "code",
   "metadata": {},
   "execution_count": 106,
   "outputs": [
    {
     "output_type": "stream",
     "name": "stdout",
     "text": [
      "There are [(6684,)] total records in the Kobe table\nThere are [(1671,)] unique records in the Kobe table\n"
     ]
    }
   ]
  },
  {
   "cell_type": "code",
   "execution_count": null,
   "metadata": {},
   "outputs": [],
   "source": [
    "kobe_points = Kobe_stats['pts']\n",
    "kobe_points"
   ]
  },
  {
   "cell_type": "code",
   "execution_count": null,
   "metadata": {},
   "outputs": [],
   "source": [
    "kobe_data = pd.read_sql('''SELECT home_team_id, visitor_team_id, team_abbreviation, games_details.team_id, games.game_id, game_date_est, player_name, fg_pct, fg3_pct, REB, AST, STL, BLK,PF,PTS,PLUS_MINUS FROM games LEFT JOIN games_details ON games.game_id = games_details.game_id LEFT JOIN teams ON teams.team_id = games.VISITOR_TEAM_ID WHERE PLAYER_ID = 977''', conn)\n",
    "kobe_data"
   ]
  },
  {
   "cell_type": "code",
   "execution_count": null,
   "metadata": {},
   "outputs": [],
   "source": [
    "lebron_data['TEAM_ABBREVIATION'].unique()"
   ]
  },
  {
   "cell_type": "code",
   "execution_count": null,
   "metadata": {},
   "outputs": [],
   "source": [
    " conn.close()"
   ]
  },
  {
   "cell_type": "code",
   "execution_count": null,
   "metadata": {},
   "outputs": [],
   "source": []
  }
 ]
}