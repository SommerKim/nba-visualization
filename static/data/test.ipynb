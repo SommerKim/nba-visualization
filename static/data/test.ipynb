{
 "metadata": {
  "language_info": {
   "codemirror_mode": {
    "name": "ipython",
    "version": 3
   },
   "file_extension": ".py",
   "mimetype": "text/x-python",
   "name": "python",
   "nbconvert_exporter": "python",
   "pygments_lexer": "ipython3",
   "version": "3.6.10-final"
  },
  "orig_nbformat": 2,
  "kernelspec": {
   "name": "python3610jvsc74a57bd039cf81ff75551f3ea7268a5731633db08a0e59f6bdbd7d1519c41c672b5e67ae",
   "display_name": "Python 3.6.10 64-bit"
  }
 },
 "nbformat": 4,
 "nbformat_minor": 2,
 "cells": [
  {
   "cell_type": "code",
   "execution_count": 24,
   "metadata": {},
   "outputs": [],
   "source": [
    "import requests\n",
    "import json\n",
    "import sqlite3\n",
    "from sqlite3 import Error\n",
    "import pandas as pd"
   ]
  },
  {
   "cell_type": "code",
   "execution_count": null,
   "metadata": {
    "tags": [
     "outputPrepend"
    ]
   },
   "outputs": [],
   "source": [
    "# headers = {\n",
    "#     'x-rapidapi-key': \"38bab05df5msh928211553580d9cp181186jsne583ad5bd5cd\",\n",
    "#     'x-rapidapi-host': \"free-nba.p.rapidapi.com\"\n",
    "#     }\n",
    "# page = 1\n",
    "# results = []\n",
    "# while True:\n",
    "\n",
    "\n",
    "#     url = \"https://free-nba.p.rapidapi.com/stats\"\n",
    "\n",
    "#     querystring = {\"page\": page,\"per_page\":\"100\"}\n",
    "#     response = requests.request(\"GET\", url, headers=headers, params=querystring)\n",
    "#     data = response.json()\n",
    "#     if len(data['data']) <= 0:\n",
    "#         break\n",
    "#     results += data['data']\n",
    "#     print(response.json())\n",
    "#     break\n",
    "\n",
    "#     page += 1\n",
    "\n",
    "#     print(response.json())\n",
    "\n"
   ]
  },
  {
   "cell_type": "code",
   "execution_count": null,
   "metadata": {
    "tags": []
   },
   "outputs": [],
   "source": [
    "# with open(\"data.json\", \"w\") as data_file:\n",
    "#     json.dump(results, data_file, indent=4)\n",
    "#     data_file.close()"
   ]
  },
  {
   "cell_type": "code",
   "execution_count": null,
   "metadata": {
    "tags": []
   },
   "outputs": [],
   "source": [
    "# print(data[\"data\"][0]['fg3_pct'])"
   ]
  },
  {
   "cell_type": "code",
   "execution_count": null,
   "metadata": {},
   "outputs": [],
   "source": [
    "\n",
    "# found how to create db in sqlite3 here:  https://www.sqlitetutorial.net/sqlite-python/insert/\n",
    "\n",
    "def create_connection(db_file):\n",
    "    \"\"\" create a database connection to a SQLite database \"\"\"\n",
    "    conn = None\n",
    "    try:\n",
    "        conn = sqlite3.connect(db_file)\n",
    "        c = conn.cursor()\n",
    "        print(sqlite3.version)\n",
    "        # this is extra code to create table and load csv into table.  Was testing here\n",
    "        c.execute('''CREATE TABLE players (PLAYER_NAME text, TEAM_ID text, PLAYER_ID text, SEASON int)''')\n",
    "        players = pd.read_csv('players.csv')\n",
    "        players.to_sql('players', conn, if_exists='append', index=False)\n",
    "        c.execute('''SELECT * FROM players''').fetchall()\n",
    "\n",
    "    except Error as e:\n",
    "        print(e)\n",
    "    finally:\n",
    "        if conn:\n",
    "            conn.close()\n",
    "\n",
    "\n",
    "if __name__ == '__main__':\n",
    "    create_connection(r\"nba_test.db\")"
   ]
  },
  {
   "cell_type": "code",
   "execution_count": 2,
   "metadata": {},
   "outputs": [],
   "source": [
    "# another method of creating db and tables but without function: https://mungingdata.com/sqlite/create-database-load-csv-python/\n",
    "import sqlite3\n",
    "# create connection to build new db if nonexistent and cursor to execute queries\n",
    "conn = sqlite3.connect('nba_test')\n",
    "c = conn.cursor()"
   ]
  },
  {
   "cell_type": "code",
   "execution_count": 3,
   "metadata": {},
   "outputs": [
    {
     "output_type": "error",
     "ename": "OperationalError",
     "evalue": "table players already exists",
     "traceback": [
      "\u001b[0;31m---------------------------------------------------------------------------\u001b[0m",
      "\u001b[0;31mOperationalError\u001b[0m                          Traceback (most recent call last)",
      "\u001b[0;32m<ipython-input-3-cf9fffcb7572>\u001b[0m in \u001b[0;36m<module>\u001b[0;34m\u001b[0m\n\u001b[1;32m      1\u001b[0m \u001b[0;31m# create table players **testing to see if works**\u001b[0m\u001b[0;34m\u001b[0m\u001b[0;34m\u001b[0m\u001b[0;34m\u001b[0m\u001b[0m\n\u001b[0;32m----> 2\u001b[0;31m \u001b[0mc\u001b[0m\u001b[0;34m.\u001b[0m\u001b[0mexecute\u001b[0m\u001b[0;34m(\u001b[0m\u001b[0;34m'''CREATE TABLE players (PLAYER_NAME text, TEAM_ID text, PLAYER_ID text, SEASON int)'''\u001b[0m\u001b[0;34m)\u001b[0m\u001b[0;34m\u001b[0m\u001b[0;34m\u001b[0m\u001b[0m\n\u001b[0m",
      "\u001b[0;31mOperationalError\u001b[0m: table players already exists"
     ]
    }
   ],
   "source": [
    "# create table players **testing to see if works**\n",
    "c.execute('''CREATE TABLE players (PLAYER_NAME text, TEAM_ID text, PLAYER_ID text, SEASON int)''')"
   ]
  },
  {
   "cell_type": "code",
   "execution_count": null,
   "metadata": {},
   "outputs": [],
   "source": [
    "# using pandas to read csv then push data to table created in last cell\n",
    "players = pd.read_csv('players.csv')\n",
    "players.to_sql('players', conn, if_exists='append', index=False)\n"
   ]
  },
  {
   "cell_type": "code",
   "execution_count": 25,
   "metadata": {},
   "outputs": [
    {
     "output_type": "execute_result",
     "data": {
      "text/plain": [
       "[(\"Royce O'Neale\", '1610612762', '1626220', 2019),\n",
       " ('Bojan Bogdanovic', '1610612762', '202711', 2019),\n",
       " ('Rudy Gobert', '1610612762', '203497', 2019),\n",
       " ('Donovan Mitchell', '1610612762', '1628378', 2019),\n",
       " ('Mike Conley', '1610612762', '201144', 2019)]"
      ]
     },
     "metadata": {},
     "execution_count": 25
    }
   ],
   "source": [
    "# querying table to verify creation\n",
    "c.execute('''SELECT * FROM players LIMIT 5''').fetchall()"
   ]
  },
  {
   "cell_type": "code",
   "execution_count": null,
   "metadata": {},
   "outputs": [],
   "source": [
    "# create rest of tables\n",
    "teams = pd.read_csv('teams.csv')\n",
    "teams.to_sql('teams', conn, if_exists='append', index=False)\n",
    "games = pd.read_csv('games.csv')\n",
    "games.to_sql('games', conn, if_exists='append', index=False)\n",
    "games_details = pd.read_csv('games_details.csv')\n",
    "games_details.to_sql('games_details', conn, if_exists='append', index=False)"
   ]
  },
  {
   "cell_type": "code",
   "execution_count": 26,
   "metadata": {},
   "outputs": [
    {
     "output_type": "execute_result",
     "data": {
      "text/plain": [
       "[('LeBron James', '1610612747', '2544', 2019),\n",
       " ('LeBron James', '1610612747', '2544', 2018),\n",
       " ('LeBron James', '1610612739', '2544', 2017),\n",
       " ('LeBron James', '1610612739', '2544', 2016),\n",
       " ('LeBron James', '1610612739', '2544', 2015),\n",
       " ('LeBron James', '1610612739', '2544', 2014),\n",
       " ('LeBron James', '1610612748', '2544', 2013),\n",
       " ('LeBron James', '1610612748', '2544', 2012),\n",
       " ('LeBron James', '1610612748', '2544', 2011),\n",
       " ('LeBron James', '1610612748', '2544', 2010),\n",
       " ('LeBron James', '1610612739', '2544', 2009),\n",
       " ('LeBron James', '1610612747', '2544', 2019),\n",
       " ('LeBron James', '1610612747', '2544', 2018),\n",
       " ('LeBron James', '1610612739', '2544', 2017),\n",
       " ('LeBron James', '1610612739', '2544', 2016),\n",
       " ('LeBron James', '1610612739', '2544', 2015),\n",
       " ('LeBron James', '1610612739', '2544', 2014),\n",
       " ('LeBron James', '1610612748', '2544', 2013),\n",
       " ('LeBron James', '1610612748', '2544', 2012),\n",
       " ('LeBron James', '1610612748', '2544', 2011),\n",
       " ('LeBron James', '1610612748', '2544', 2010),\n",
       " ('LeBron James', '1610612739', '2544', 2009)]"
      ]
     },
     "metadata": {},
     "execution_count": 26
    }
   ],
   "source": [
    "# Kobe ID is 977, Lebron ID is 2544\n",
    "# testing select statement for filtering by player id\n",
    "c.execute('''SELECT * FROM players WHERE PLAYER_ID = 2544''').fetchall()"
   ]
  },
  {
   "cell_type": "code",
   "execution_count": 41,
   "metadata": {},
   "outputs": [
    {
     "output_type": "execute_result",
     "data": {
      "text/plain": [
       "[(22000640,\n",
       "  '2021-03-20',\n",
       "  'LeBron James',\n",
       "  0.5,\n",
       "  0.5,\n",
       "  1.0,\n",
       "  4.0,\n",
       "  0.0,\n",
       "  0.0,\n",
       "  0.0,\n",
       "  10.0,\n",
       "  -5.0),\n",
       " (22000630,\n",
       "  '2021-03-18',\n",
       "  'LeBron James',\n",
       "  0.609,\n",
       "  0.444,\n",
       "  8.0,\n",
       "  6.0,\n",
       "  1.0,\n",
       "  1.0,\n",
       "  2.0,\n",
       "  37.0,\n",
       "  7.0),\n",
       " (22000615,\n",
       "  '2021-03-16',\n",
       "  'LeBron James',\n",
       "  0.5710000000000001,\n",
       "  0.5710000000000001,\n",
       "  12.0,\n",
       "  12.0,\n",
       "  0.0,\n",
       "  1.0,\n",
       "  0.0,\n",
       "  25.0,\n",
       "  0.0),\n",
       " (22000608,\n",
       "  '2021-03-15',\n",
       "  'LeBron James',\n",
       "  0.615,\n",
       "  0.5,\n",
       "  10.0,\n",
       "  11.0,\n",
       "  0.0,\n",
       "  0.0,\n",
       "  3.0,\n",
       "  22.0,\n",
       "  33.0),\n",
       " (22000075,\n",
       "  '2021-01-01',\n",
       "  'LeBron James',\n",
       "  0.364,\n",
       "  0.429,\n",
       "  11.0,\n",
       "  10.0,\n",
       "  2.0,\n",
       "  0.0,\n",
       "  0.0,\n",
       "  26.0,\n",
       "  18.0),\n",
       " (22000060,\n",
       "  '2020-12-30',\n",
       "  'LeBron James',\n",
       "  0.478,\n",
       "  0.333,\n",
       "  5.0,\n",
       "  8.0,\n",
       "  1.0,\n",
       "  1.0,\n",
       "  1.0,\n",
       "  26.0,\n",
       "  -1.0),\n",
       " (22000060,\n",
       "  '2020-12-30',\n",
       "  'LeBron James',\n",
       "  0.478,\n",
       "  0.333,\n",
       "  5.0,\n",
       "  8.0,\n",
       "  1.0,\n",
       "  1.0,\n",
       "  1.0,\n",
       "  26.0,\n",
       "  -1.0),\n",
       " (22000045,\n",
       "  '2020-12-28',\n",
       "  'LeBron James',\n",
       "  0.55,\n",
       "  0.429,\n",
       "  9.0,\n",
       "  6.0,\n",
       "  2.0,\n",
       "  1.0,\n",
       "  2.0,\n",
       "  29.0,\n",
       "  0.0),\n",
       " (22000045,\n",
       "  '2020-12-28',\n",
       "  'LeBron James',\n",
       "  0.55,\n",
       "  0.429,\n",
       "  9.0,\n",
       "  6.0,\n",
       "  2.0,\n",
       "  1.0,\n",
       "  2.0,\n",
       "  29.0,\n",
       "  0.0),\n",
       " (22000040,\n",
       "  '2020-12-27',\n",
       "  'LeBron James',\n",
       "  0.462,\n",
       "  0.2,\n",
       "  9.0,\n",
       "  5.0,\n",
       "  1.0,\n",
       "  0.0,\n",
       "  1.0,\n",
       "  18.0,\n",
       "  16.0)]"
      ]
     },
     "metadata": {},
     "execution_count": 41
    }
   ],
   "source": [
    "# testing the join statement to get actual game date from games table\n",
    "c.execute('''SELECT games.game_id, game_date_est, player_name, fg_pct, fg3_pct, REB, AST, STL, BLK,PF,PTS,PLUS_MINUS FROM games LEFT JOIN games_details ON games.game_id = games_details.game_id WHERE PLAYER_ID = 2544 LIMIT 10''')\n",
    "c.fetchall()"
   ]
  },
  {
   "cell_type": "code",
   "execution_count": 12,
   "metadata": {},
   "outputs": [
    {
     "output_type": "error",
     "ename": "OperationalError",
     "evalue": "no such column: GAME_DATE",
     "traceback": [
      "\u001b[0;31m---------------------------------------------------------------------------\u001b[0m",
      "\u001b[0;31mOperationalError\u001b[0m                          Traceback (most recent call last)",
      "\u001b[0;32m<ipython-input-12-8ccd02d1fd04>\u001b[0m in \u001b[0;36m<module>\u001b[0;34m\u001b[0m\n\u001b[1;32m      1\u001b[0m \u001b[0;31m# testing select statement to query additional stats and filtering by player id\u001b[0m\u001b[0;34m\u001b[0m\u001b[0;34m\u001b[0m\u001b[0;34m\u001b[0m\u001b[0m\n\u001b[1;32m      2\u001b[0m \u001b[0;31m# INNER JOIN games ON games.game_id = games_details.game_id  DIDN'T WORK\u001b[0m\u001b[0;34m\u001b[0m\u001b[0;34m\u001b[0m\u001b[0;34m\u001b[0m\u001b[0m\n\u001b[0;32m----> 3\u001b[0;31m \u001b[0mc\u001b[0m\u001b[0;34m.\u001b[0m\u001b[0mexecute\u001b[0m\u001b[0;34m(\u001b[0m\u001b[0;34m'''SELECT GAME_DATE, TEAM_ABBREVIATION, PLAYER_NAME, FG_PCT, FG3_PCT, FT_PCT, PTS FROM games_details LEFT JOIN games ON games.game_id = games_details.game_id WHERE PLAYER_ID = 2544 LIMIT 10'''\u001b[0m\u001b[0;34m)\u001b[0m\u001b[0;34m.\u001b[0m\u001b[0mfetchall\u001b[0m\u001b[0;34m(\u001b[0m\u001b[0;34m)\u001b[0m\u001b[0;34m\u001b[0m\u001b[0;34m\u001b[0m\u001b[0m\n\u001b[0m",
      "\u001b[0;31mOperationalError\u001b[0m: no such column: GAME_DATE"
     ]
    }
   ],
   "source": [
    "# testing select statement to query additional stats and filtering by player id\n",
    "# INNER JOIN games ON games.game_id = games_details.game_id  DIDN'T WORK\n",
    "c.execute('''SELECT GAME_DATE, TEAM_ABBREVIATION, PLAYER_NAME, FG_PCT, FG3_PCT, FT_PCT, PTS FROM games_details LEFT JOIN games ON games.game_id = games_details.game_id WHERE PLAYER_ID = 2544 LIMIT 10''').fetchall()\n"
   ]
  },
  {
   "cell_type": "code",
   "execution_count": 38,
   "metadata": {},
   "outputs": [
    {
     "output_type": "execute_result",
     "data": {
      "text/plain": [
       "     TEAM_ABBREVIATION   PLAYER_NAME  FG_PCT  FG3_PCT  FT_PCT   PTS\n",
       "0                  LAL  LeBron James   0.500    0.500   1.000  10.0\n",
       "1                  LAL  LeBron James   0.609    0.444   0.833  37.0\n",
       "2                  LAL  LeBron James   0.571    0.571   1.000  25.0\n",
       "3                  LAL  LeBron James   0.615    0.500   0.667  22.0\n",
       "4                  LAL  LeBron James   0.364    0.429   1.000  26.0\n",
       "...                ...           ...     ...      ...     ...   ...\n",
       "1684               MIA  LeBron James   0.250    0.250   0.833  10.0\n",
       "1685               MIA  LeBron James   0.545    0.000   0.500  13.0\n",
       "1686               MIA  LeBron James   0.625    0.000   0.500  11.0\n",
       "1687               MIA  LeBron James   0.545    0.000   0.889  20.0\n",
       "1688               MIA  LeBron James   0.417    0.000   0.000  10.0\n",
       "\n",
       "[1689 rows x 6 columns]"
      ],
      "text/html": "<div>\n<style scoped>\n    .dataframe tbody tr th:only-of-type {\n        vertical-align: middle;\n    }\n\n    .dataframe tbody tr th {\n        vertical-align: top;\n    }\n\n    .dataframe thead th {\n        text-align: right;\n    }\n</style>\n<table border=\"1\" class=\"dataframe\">\n  <thead>\n    <tr style=\"text-align: right;\">\n      <th></th>\n      <th>TEAM_ABBREVIATION</th>\n      <th>PLAYER_NAME</th>\n      <th>FG_PCT</th>\n      <th>FG3_PCT</th>\n      <th>FT_PCT</th>\n      <th>PTS</th>\n    </tr>\n  </thead>\n  <tbody>\n    <tr>\n      <th>0</th>\n      <td>LAL</td>\n      <td>LeBron James</td>\n      <td>0.500</td>\n      <td>0.500</td>\n      <td>1.000</td>\n      <td>10.0</td>\n    </tr>\n    <tr>\n      <th>1</th>\n      <td>LAL</td>\n      <td>LeBron James</td>\n      <td>0.609</td>\n      <td>0.444</td>\n      <td>0.833</td>\n      <td>37.0</td>\n    </tr>\n    <tr>\n      <th>2</th>\n      <td>LAL</td>\n      <td>LeBron James</td>\n      <td>0.571</td>\n      <td>0.571</td>\n      <td>1.000</td>\n      <td>25.0</td>\n    </tr>\n    <tr>\n      <th>3</th>\n      <td>LAL</td>\n      <td>LeBron James</td>\n      <td>0.615</td>\n      <td>0.500</td>\n      <td>0.667</td>\n      <td>22.0</td>\n    </tr>\n    <tr>\n      <th>4</th>\n      <td>LAL</td>\n      <td>LeBron James</td>\n      <td>0.364</td>\n      <td>0.429</td>\n      <td>1.000</td>\n      <td>26.0</td>\n    </tr>\n    <tr>\n      <th>...</th>\n      <td>...</td>\n      <td>...</td>\n      <td>...</td>\n      <td>...</td>\n      <td>...</td>\n      <td>...</td>\n    </tr>\n    <tr>\n      <th>1684</th>\n      <td>MIA</td>\n      <td>LeBron James</td>\n      <td>0.250</td>\n      <td>0.250</td>\n      <td>0.833</td>\n      <td>10.0</td>\n    </tr>\n    <tr>\n      <th>1685</th>\n      <td>MIA</td>\n      <td>LeBron James</td>\n      <td>0.545</td>\n      <td>0.000</td>\n      <td>0.500</td>\n      <td>13.0</td>\n    </tr>\n    <tr>\n      <th>1686</th>\n      <td>MIA</td>\n      <td>LeBron James</td>\n      <td>0.625</td>\n      <td>0.000</td>\n      <td>0.500</td>\n      <td>11.0</td>\n    </tr>\n    <tr>\n      <th>1687</th>\n      <td>MIA</td>\n      <td>LeBron James</td>\n      <td>0.545</td>\n      <td>0.000</td>\n      <td>0.889</td>\n      <td>20.0</td>\n    </tr>\n    <tr>\n      <th>1688</th>\n      <td>MIA</td>\n      <td>LeBron James</td>\n      <td>0.417</td>\n      <td>0.000</td>\n      <td>0.000</td>\n      <td>10.0</td>\n    </tr>\n  </tbody>\n</table>\n<p>1689 rows × 6 columns</p>\n</div>"
     },
     "metadata": {},
     "execution_count": 38
    }
   ],
   "source": [
    "# testing select statement to query additional stats and filtering by player id in a DataFrame\n",
    "pd.read_sql('''SELECT TEAM_ABBREVIATION, PLAYER_NAME, FG_PCT, FG3_PCT, FT_PCT, PTS FROM games_details WHERE PLAYER_ID = 2544''', conn)\n"
   ]
  },
  {
   "cell_type": "code",
   "execution_count": 48,
   "metadata": {},
   "outputs": [
    {
     "output_type": "execute_result",
     "data": {
      "text/plain": [
       "     TEAM_ABBREVIATION   GAME_ID GAME_DATE_EST   PLAYER_NAME  FG_PCT  FG3_PCT  \\\n",
       "0                  LAL  22000640    2021-03-20  LeBron James   0.500    0.500   \n",
       "1                  LAL  22000630    2021-03-18  LeBron James   0.609    0.444   \n",
       "2                  LAL  22000615    2021-03-16  LeBron James   0.571    0.571   \n",
       "3                  LAL  22000608    2021-03-15  LeBron James   0.615    0.500   \n",
       "4                  LAL  22000075    2021-01-01  LeBron James   0.364    0.429   \n",
       "...                ...       ...           ...           ...     ...      ...   \n",
       "1688               MIA  11200095    2012-10-23  LeBron James   0.250    0.250   \n",
       "1689               MIA  11200069    2012-10-18  LeBron James   0.545    0.000   \n",
       "1690               MIA  11200043    2012-10-14  LeBron James   0.625    0.000   \n",
       "1691               MIA  11200028    2012-10-11  LeBron James   0.545    0.000   \n",
       "1692               MIA  11200008    2012-10-07  LeBron James   0.417    0.000   \n",
       "\n",
       "       REB   AST  STL  BLK   PF   PTS  PLUS_MINUS  \n",
       "0      1.0   4.0  0.0  0.0  0.0  10.0        -5.0  \n",
       "1      8.0   6.0  1.0  1.0  2.0  37.0         7.0  \n",
       "2     12.0  12.0  0.0  1.0  0.0  25.0         0.0  \n",
       "3     10.0  11.0  0.0  0.0  3.0  22.0        33.0  \n",
       "4     11.0  10.0  2.0  0.0  0.0  26.0        18.0  \n",
       "...    ...   ...  ...  ...  ...   ...         ...  \n",
       "1688   4.0   8.0  2.0  1.0  2.0  10.0         NaN  \n",
       "1689   4.0   8.0  4.0  0.0  1.0  13.0         NaN  \n",
       "1690   3.0   4.0  3.0  0.0  0.0  11.0         NaN  \n",
       "1691   5.0   5.0  1.0  0.0  1.0  20.0         NaN  \n",
       "1692   6.0   6.0  1.0  0.0  0.0  10.0         NaN  \n",
       "\n",
       "[1693 rows x 13 columns]"
      ],
      "text/html": "<div>\n<style scoped>\n    .dataframe tbody tr th:only-of-type {\n        vertical-align: middle;\n    }\n\n    .dataframe tbody tr th {\n        vertical-align: top;\n    }\n\n    .dataframe thead th {\n        text-align: right;\n    }\n</style>\n<table border=\"1\" class=\"dataframe\">\n  <thead>\n    <tr style=\"text-align: right;\">\n      <th></th>\n      <th>TEAM_ABBREVIATION</th>\n      <th>GAME_ID</th>\n      <th>GAME_DATE_EST</th>\n      <th>PLAYER_NAME</th>\n      <th>FG_PCT</th>\n      <th>FG3_PCT</th>\n      <th>REB</th>\n      <th>AST</th>\n      <th>STL</th>\n      <th>BLK</th>\n      <th>PF</th>\n      <th>PTS</th>\n      <th>PLUS_MINUS</th>\n    </tr>\n  </thead>\n  <tbody>\n    <tr>\n      <th>0</th>\n      <td>LAL</td>\n      <td>22000640</td>\n      <td>2021-03-20</td>\n      <td>LeBron James</td>\n      <td>0.500</td>\n      <td>0.500</td>\n      <td>1.0</td>\n      <td>4.0</td>\n      <td>0.0</td>\n      <td>0.0</td>\n      <td>0.0</td>\n      <td>10.0</td>\n      <td>-5.0</td>\n    </tr>\n    <tr>\n      <th>1</th>\n      <td>LAL</td>\n      <td>22000630</td>\n      <td>2021-03-18</td>\n      <td>LeBron James</td>\n      <td>0.609</td>\n      <td>0.444</td>\n      <td>8.0</td>\n      <td>6.0</td>\n      <td>1.0</td>\n      <td>1.0</td>\n      <td>2.0</td>\n      <td>37.0</td>\n      <td>7.0</td>\n    </tr>\n    <tr>\n      <th>2</th>\n      <td>LAL</td>\n      <td>22000615</td>\n      <td>2021-03-16</td>\n      <td>LeBron James</td>\n      <td>0.571</td>\n      <td>0.571</td>\n      <td>12.0</td>\n      <td>12.0</td>\n      <td>0.0</td>\n      <td>1.0</td>\n      <td>0.0</td>\n      <td>25.0</td>\n      <td>0.0</td>\n    </tr>\n    <tr>\n      <th>3</th>\n      <td>LAL</td>\n      <td>22000608</td>\n      <td>2021-03-15</td>\n      <td>LeBron James</td>\n      <td>0.615</td>\n      <td>0.500</td>\n      <td>10.0</td>\n      <td>11.0</td>\n      <td>0.0</td>\n      <td>0.0</td>\n      <td>3.0</td>\n      <td>22.0</td>\n      <td>33.0</td>\n    </tr>\n    <tr>\n      <th>4</th>\n      <td>LAL</td>\n      <td>22000075</td>\n      <td>2021-01-01</td>\n      <td>LeBron James</td>\n      <td>0.364</td>\n      <td>0.429</td>\n      <td>11.0</td>\n      <td>10.0</td>\n      <td>2.0</td>\n      <td>0.0</td>\n      <td>0.0</td>\n      <td>26.0</td>\n      <td>18.0</td>\n    </tr>\n    <tr>\n      <th>...</th>\n      <td>...</td>\n      <td>...</td>\n      <td>...</td>\n      <td>...</td>\n      <td>...</td>\n      <td>...</td>\n      <td>...</td>\n      <td>...</td>\n      <td>...</td>\n      <td>...</td>\n      <td>...</td>\n      <td>...</td>\n      <td>...</td>\n    </tr>\n    <tr>\n      <th>1688</th>\n      <td>MIA</td>\n      <td>11200095</td>\n      <td>2012-10-23</td>\n      <td>LeBron James</td>\n      <td>0.250</td>\n      <td>0.250</td>\n      <td>4.0</td>\n      <td>8.0</td>\n      <td>2.0</td>\n      <td>1.0</td>\n      <td>2.0</td>\n      <td>10.0</td>\n      <td>NaN</td>\n    </tr>\n    <tr>\n      <th>1689</th>\n      <td>MIA</td>\n      <td>11200069</td>\n      <td>2012-10-18</td>\n      <td>LeBron James</td>\n      <td>0.545</td>\n      <td>0.000</td>\n      <td>4.0</td>\n      <td>8.0</td>\n      <td>4.0</td>\n      <td>0.0</td>\n      <td>1.0</td>\n      <td>13.0</td>\n      <td>NaN</td>\n    </tr>\n    <tr>\n      <th>1690</th>\n      <td>MIA</td>\n      <td>11200043</td>\n      <td>2012-10-14</td>\n      <td>LeBron James</td>\n      <td>0.625</td>\n      <td>0.000</td>\n      <td>3.0</td>\n      <td>4.0</td>\n      <td>3.0</td>\n      <td>0.0</td>\n      <td>0.0</td>\n      <td>11.0</td>\n      <td>NaN</td>\n    </tr>\n    <tr>\n      <th>1691</th>\n      <td>MIA</td>\n      <td>11200028</td>\n      <td>2012-10-11</td>\n      <td>LeBron James</td>\n      <td>0.545</td>\n      <td>0.000</td>\n      <td>5.0</td>\n      <td>5.0</td>\n      <td>1.0</td>\n      <td>0.0</td>\n      <td>1.0</td>\n      <td>20.0</td>\n      <td>NaN</td>\n    </tr>\n    <tr>\n      <th>1692</th>\n      <td>MIA</td>\n      <td>11200008</td>\n      <td>2012-10-07</td>\n      <td>LeBron James</td>\n      <td>0.417</td>\n      <td>0.000</td>\n      <td>6.0</td>\n      <td>6.0</td>\n      <td>1.0</td>\n      <td>0.0</td>\n      <td>0.0</td>\n      <td>10.0</td>\n      <td>NaN</td>\n    </tr>\n  </tbody>\n</table>\n<p>1693 rows × 13 columns</p>\n</div>"
     },
     "metadata": {},
     "execution_count": 48
    }
   ],
   "source": [
    "lebron_data = pd.read_sql('''SELECT team_abbreviation, games.game_id, game_date_est, player_name, fg_pct, fg3_pct, REB, AST, STL, BLK,PF,PTS,PLUS_MINUS FROM games LEFT JOIN games_details ON games.game_id = games_details.game_id WHERE PLAYER_ID = 2544''', conn)\n",
    "lebron_data"
   ]
  },
  {
   "cell_type": "code",
   "execution_count": 49,
   "metadata": {},
   "outputs": [
    {
     "output_type": "execute_result",
     "data": {
      "text/plain": [
       "     TEAM_ABBREVIATION   GAME_ID GAME_DATE_EST  PLAYER_NAME  FG_PCT  FG3_PCT  \\\n",
       "0                  LAL  40800405    2009-06-14  Kobe Bryant   0.435    0.400   \n",
       "1                  LAL  40800404    2009-06-11  Kobe Bryant   0.355    0.333   \n",
       "2                  LAL  40800403    2009-06-09  Kobe Bryant   0.440    0.444   \n",
       "3                  LAL  40800402    2009-06-07  Kobe Bryant   0.455    0.250   \n",
       "4                  LAL  40800401    2009-06-04  Kobe Bryant   0.471    0.000   \n",
       "...                ...       ...           ...          ...     ...      ...   \n",
       "1097               LAL  11200086    2012-10-21  Kobe Bryant   0.500    0.250   \n",
       "1098               LAL  11200075    2012-10-19  Kobe Bryant   0.583    0.000   \n",
       "1099               LAL  11200057    2012-10-16  Kobe Bryant   0.556    0.667   \n",
       "1100               LAL  11200042    2012-10-13  Kobe Bryant   0.429    0.000   \n",
       "1101               LAL  11200009    2012-10-07  Kobe Bryant   0.286    0.000   \n",
       "\n",
       "      REB  AST  STL  BLK   PF   PTS  PLUS_MINUS  \n",
       "0     6.0  5.0  2.0  4.0  2.0  30.0        14.0  \n",
       "1     7.0  8.0  1.0  1.0  3.0  32.0        11.0  \n",
       "2     3.0  8.0  0.0  0.0  5.0  31.0        -3.0  \n",
       "3     4.0  8.0  2.0  0.0  2.0  29.0         2.0  \n",
       "4     8.0  8.0  2.0  2.0  1.0  40.0        25.0  \n",
       "...   ...  ...  ...  ...  ...   ...         ...  \n",
       "1097  5.0  3.0  1.0  0.0  3.0  21.0         NaN  \n",
       "1098  6.0  4.0  1.0  0.0  0.0  22.0         NaN  \n",
       "1099  5.0  2.0  1.0  1.0  2.0  31.0         NaN  \n",
       "1100  8.0  5.0  2.0  1.0  2.0  18.0         NaN  \n",
       "1101  0.0  3.0  0.0  0.0  2.0  10.0         NaN  \n",
       "\n",
       "[1102 rows x 13 columns]"
      ],
      "text/html": "<div>\n<style scoped>\n    .dataframe tbody tr th:only-of-type {\n        vertical-align: middle;\n    }\n\n    .dataframe tbody tr th {\n        vertical-align: top;\n    }\n\n    .dataframe thead th {\n        text-align: right;\n    }\n</style>\n<table border=\"1\" class=\"dataframe\">\n  <thead>\n    <tr style=\"text-align: right;\">\n      <th></th>\n      <th>TEAM_ABBREVIATION</th>\n      <th>GAME_ID</th>\n      <th>GAME_DATE_EST</th>\n      <th>PLAYER_NAME</th>\n      <th>FG_PCT</th>\n      <th>FG3_PCT</th>\n      <th>REB</th>\n      <th>AST</th>\n      <th>STL</th>\n      <th>BLK</th>\n      <th>PF</th>\n      <th>PTS</th>\n      <th>PLUS_MINUS</th>\n    </tr>\n  </thead>\n  <tbody>\n    <tr>\n      <th>0</th>\n      <td>LAL</td>\n      <td>40800405</td>\n      <td>2009-06-14</td>\n      <td>Kobe Bryant</td>\n      <td>0.435</td>\n      <td>0.400</td>\n      <td>6.0</td>\n      <td>5.0</td>\n      <td>2.0</td>\n      <td>4.0</td>\n      <td>2.0</td>\n      <td>30.0</td>\n      <td>14.0</td>\n    </tr>\n    <tr>\n      <th>1</th>\n      <td>LAL</td>\n      <td>40800404</td>\n      <td>2009-06-11</td>\n      <td>Kobe Bryant</td>\n      <td>0.355</td>\n      <td>0.333</td>\n      <td>7.0</td>\n      <td>8.0</td>\n      <td>1.0</td>\n      <td>1.0</td>\n      <td>3.0</td>\n      <td>32.0</td>\n      <td>11.0</td>\n    </tr>\n    <tr>\n      <th>2</th>\n      <td>LAL</td>\n      <td>40800403</td>\n      <td>2009-06-09</td>\n      <td>Kobe Bryant</td>\n      <td>0.440</td>\n      <td>0.444</td>\n      <td>3.0</td>\n      <td>8.0</td>\n      <td>0.0</td>\n      <td>0.0</td>\n      <td>5.0</td>\n      <td>31.0</td>\n      <td>-3.0</td>\n    </tr>\n    <tr>\n      <th>3</th>\n      <td>LAL</td>\n      <td>40800402</td>\n      <td>2009-06-07</td>\n      <td>Kobe Bryant</td>\n      <td>0.455</td>\n      <td>0.250</td>\n      <td>4.0</td>\n      <td>8.0</td>\n      <td>2.0</td>\n      <td>0.0</td>\n      <td>2.0</td>\n      <td>29.0</td>\n      <td>2.0</td>\n    </tr>\n    <tr>\n      <th>4</th>\n      <td>LAL</td>\n      <td>40800401</td>\n      <td>2009-06-04</td>\n      <td>Kobe Bryant</td>\n      <td>0.471</td>\n      <td>0.000</td>\n      <td>8.0</td>\n      <td>8.0</td>\n      <td>2.0</td>\n      <td>2.0</td>\n      <td>1.0</td>\n      <td>40.0</td>\n      <td>25.0</td>\n    </tr>\n    <tr>\n      <th>...</th>\n      <td>...</td>\n      <td>...</td>\n      <td>...</td>\n      <td>...</td>\n      <td>...</td>\n      <td>...</td>\n      <td>...</td>\n      <td>...</td>\n      <td>...</td>\n      <td>...</td>\n      <td>...</td>\n      <td>...</td>\n      <td>...</td>\n    </tr>\n    <tr>\n      <th>1097</th>\n      <td>LAL</td>\n      <td>11200086</td>\n      <td>2012-10-21</td>\n      <td>Kobe Bryant</td>\n      <td>0.500</td>\n      <td>0.250</td>\n      <td>5.0</td>\n      <td>3.0</td>\n      <td>1.0</td>\n      <td>0.0</td>\n      <td>3.0</td>\n      <td>21.0</td>\n      <td>NaN</td>\n    </tr>\n    <tr>\n      <th>1098</th>\n      <td>LAL</td>\n      <td>11200075</td>\n      <td>2012-10-19</td>\n      <td>Kobe Bryant</td>\n      <td>0.583</td>\n      <td>0.000</td>\n      <td>6.0</td>\n      <td>4.0</td>\n      <td>1.0</td>\n      <td>0.0</td>\n      <td>0.0</td>\n      <td>22.0</td>\n      <td>NaN</td>\n    </tr>\n    <tr>\n      <th>1099</th>\n      <td>LAL</td>\n      <td>11200057</td>\n      <td>2012-10-16</td>\n      <td>Kobe Bryant</td>\n      <td>0.556</td>\n      <td>0.667</td>\n      <td>5.0</td>\n      <td>2.0</td>\n      <td>1.0</td>\n      <td>1.0</td>\n      <td>2.0</td>\n      <td>31.0</td>\n      <td>NaN</td>\n    </tr>\n    <tr>\n      <th>1100</th>\n      <td>LAL</td>\n      <td>11200042</td>\n      <td>2012-10-13</td>\n      <td>Kobe Bryant</td>\n      <td>0.429</td>\n      <td>0.000</td>\n      <td>8.0</td>\n      <td>5.0</td>\n      <td>2.0</td>\n      <td>1.0</td>\n      <td>2.0</td>\n      <td>18.0</td>\n      <td>NaN</td>\n    </tr>\n    <tr>\n      <th>1101</th>\n      <td>LAL</td>\n      <td>11200009</td>\n      <td>2012-10-07</td>\n      <td>Kobe Bryant</td>\n      <td>0.286</td>\n      <td>0.000</td>\n      <td>0.0</td>\n      <td>3.0</td>\n      <td>0.0</td>\n      <td>0.0</td>\n      <td>2.0</td>\n      <td>10.0</td>\n      <td>NaN</td>\n    </tr>\n  </tbody>\n</table>\n<p>1102 rows × 13 columns</p>\n</div>"
     },
     "metadata": {},
     "execution_count": 49
    }
   ],
   "source": [
    "kobe_data = pd.read_sql('''SELECT team_abbreviation, games.game_id, game_date_est, player_name, fg_pct, fg3_pct, REB, AST, STL, BLK,PF,PTS,PLUS_MINUS FROM games LEFT JOIN games_details ON games.game_id = games_details.game_id WHERE PLAYER_ID = 977''', conn)\n",
    "kobe_data"
   ]
  },
  {
   "cell_type": "code",
   "execution_count": null,
   "metadata": {},
   "outputs": [],
   "source": []
  }
 ]
}