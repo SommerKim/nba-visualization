{
 "metadata": {
  "language_info": {
   "codemirror_mode": {
    "name": "ipython",
    "version": 3
   },
   "file_extension": ".py",
   "mimetype": "text/x-python",
   "name": "python",
   "nbconvert_exporter": "python",
   "pygments_lexer": "ipython3",
   "version": "3.6.10-final"
  },
  "orig_nbformat": 2,
  "kernelspec": {
   "name": "python3610jvsc74a57bd039cf81ff75551f3ea7268a5731633db08a0e59f6bdbd7d1519c41c672b5e67ae",
   "display_name": "Python 3.6.10 64-bit"
  }
 },
 "nbformat": 4,
 "nbformat_minor": 2,
 "cells": [
  {
   "cell_type": "code",
   "execution_count": 1,
   "metadata": {},
   "outputs": [],
   "source": [
    "import requests\n",
    "import json\n",
    "import sqlite3\n",
    "from sqlite3 import Error\n",
    "import pandas as pd"
   ]
  },
  {
   "cell_type": "code",
   "execution_count": null,
   "metadata": {
    "tags": [
     "outputPrepend"
    ]
   },
   "outputs": [],
   "source": [
    "# headers = {\n",
    "#     'x-rapidapi-key': \"38bab05df5msh928211553580d9cp181186jsne583ad5bd5cd\",\n",
    "#     'x-rapidapi-host': \"free-nba.p.rapidapi.com\"\n",
    "#     }\n",
    "# page = 1\n",
    "# results = []\n",
    "# while True:\n",
    "\n",
    "\n",
    "#     url = \"https://free-nba.p.rapidapi.com/stats\"\n",
    "\n",
    "#     querystring = {\"page\": page,\"per_page\":\"100\"}\n",
    "#     response = requests.request(\"GET\", url, headers=headers, params=querystring)\n",
    "#     data = response.json()\n",
    "#     if len(data['data']) <= 0:\n",
    "#         break\n",
    "#     results += data['data']\n",
    "#     print(response.json())\n",
    "#     break\n",
    "\n",
    "#     page += 1\n",
    "\n",
    "#     print(response.json())\n",
    "\n"
   ]
  },
  {
   "cell_type": "code",
   "execution_count": null,
   "metadata": {
    "tags": []
   },
   "outputs": [],
   "source": [
    "# with open(\"data.json\", \"w\") as data_file:\n",
    "#     json.dump(results, data_file, indent=4)\n",
    "#     data_file.close()"
   ]
  },
  {
   "cell_type": "code",
   "execution_count": null,
   "metadata": {
    "tags": []
   },
   "outputs": [],
   "source": [
    "# print(data[\"data\"][0]['fg3_pct'])"
   ]
  },
  {
   "cell_type": "code",
   "execution_count": null,
   "metadata": {},
   "outputs": [],
   "source": [
    "\n",
    "# # found how to create db in sqlite3 here:  https://www.sqlitetutorial.net/sqlite-python/insert/\n",
    "\n",
    "# def create_connection(db_file):\n",
    "#     \"\"\" create a database connection to a SQLite database \"\"\"\n",
    "#     conn = None\n",
    "#     try:\n",
    "#         conn = sqlite3.connect(db_file)\n",
    "#         c = conn.cursor()\n",
    "#         print(sqlite3.version)\n",
    "#         # this is extra code to create table and load csv into table.  Was testing here\n",
    "#         c.execute('''CREATE TABLE players (PLAYER_NAME text, TEAM_ID text, PLAYER_ID text, SEASON int)''')\n",
    "#         players = pd.read_csv('players.csv')\n",
    "#         players.to_sql('players', conn, if_exists='append', index=False)\n",
    "#         c.execute('''SELECT * FROM players''').fetchall()\n",
    "\n",
    "#     except Error as e:\n",
    "#         print(e)\n",
    "#     finally:\n",
    "#         if conn:\n",
    "#             conn.close()\n",
    "\n",
    "\n",
    "# if __name__ == '__main__':\n",
    "#     create_connection(r\"nba_test.db\")"
   ]
  },
  {
   "cell_type": "code",
   "execution_count": 22,
   "metadata": {},
   "outputs": [],
   "source": [
    "# another method of creating db and tables but without function: https://mungingdata.com/sqlite/create-database-load-csv-python/\n",
    "import sqlite3\n",
    "# create connection to build new db if nonexistent and cursor to execute queries\n",
    "conn = sqlite3.connect('nba_test')\n",
    "c = conn.cursor()"
   ]
  },
  {
   "cell_type": "code",
   "execution_count": 3,
   "metadata": {},
   "outputs": [
    {
     "output_type": "error",
     "ename": "OperationalError",
     "evalue": "table players already exists",
     "traceback": [
      "\u001b[0;31m---------------------------------------------------------------------------\u001b[0m",
      "\u001b[0;31mOperationalError\u001b[0m                          Traceback (most recent call last)",
      "\u001b[0;32m<ipython-input-3-cf9fffcb7572>\u001b[0m in \u001b[0;36m<module>\u001b[0;34m\u001b[0m\n\u001b[1;32m      1\u001b[0m \u001b[0;31m# create table players **testing to see if works**\u001b[0m\u001b[0;34m\u001b[0m\u001b[0;34m\u001b[0m\u001b[0;34m\u001b[0m\u001b[0m\n\u001b[0;32m----> 2\u001b[0;31m \u001b[0mc\u001b[0m\u001b[0;34m.\u001b[0m\u001b[0mexecute\u001b[0m\u001b[0;34m(\u001b[0m\u001b[0;34m'''CREATE TABLE players (PLAYER_NAME text, TEAM_ID text, PLAYER_ID text, SEASON int)'''\u001b[0m\u001b[0;34m)\u001b[0m\u001b[0;34m\u001b[0m\u001b[0;34m\u001b[0m\u001b[0m\n\u001b[0m",
      "\u001b[0;31mOperationalError\u001b[0m: table players already exists"
     ]
    }
   ],
   "source": [
    "# create table players **testing to see if works**\n",
    "c.execute('''CREATE TABLE players (PLAYER_NAME text, TEAM_ID text, PLAYER_ID text, SEASON int)''')"
   ]
  },
  {
   "cell_type": "code",
   "execution_count": 4,
   "metadata": {},
   "outputs": [],
   "source": [
    "# using pandas to read csv then push data to table created in last cell\n",
    "players = pd.read_csv('players.csv')\n",
    "players.to_sql('players', conn, if_exists='append', index=False)\n"
   ]
  },
  {
   "cell_type": "code",
   "execution_count": 23,
   "metadata": {},
   "outputs": [
    {
     "output_type": "execute_result",
     "data": {
      "text/plain": [
       "[(\"Royce O'Neale\", '1610612762', '1626220', 2019),\n",
       " ('Bojan Bogdanovic', '1610612762', '202711', 2019),\n",
       " ('Rudy Gobert', '1610612762', '203497', 2019),\n",
       " ('Donovan Mitchell', '1610612762', '1628378', 2019),\n",
       " ('Mike Conley', '1610612762', '201144', 2019)]"
      ]
     },
     "metadata": {},
     "execution_count": 23
    }
   ],
   "source": [
    "# querying table to verify creation\n",
    "c.execute('''SELECT * FROM players LIMIT 5''').fetchall()"
   ]
  },
  {
   "cell_type": "code",
   "execution_count": 6,
   "metadata": {},
   "outputs": [],
   "source": [
    "# create rest of tables\n",
    "teams = pd.read_csv('teams.csv')\n",
    "teams.to_sql('teams', conn, if_exists='append', index=False)\n",
    "games = pd.read_csv('games.csv')\n",
    "games.to_sql('games', conn, if_exists='append', index=False)\n",
    "games_details = pd.read_csv('games_details.csv')\n",
    "games_details.to_sql('games_details', conn, if_exists='append', index=False)\n",
    "kobe = pd.read_csv('kobe_data.csv')\n",
    "kobe.to_sql('kobe', conn, if_exists='append', index=False)"
   ]
  },
  {
   "cell_type": "code",
   "execution_count": 12,
   "metadata": {},
   "outputs": [],
   "source": [
    "# create sqlite table from Kobe csv\n",
    "kobe = pd.read_csv('kobe_data.csv')\n",
    "kobe.to_sql('kobe', conn, if_exists='append', index=False)"
   ]
  },
  {
   "cell_type": "code",
   "execution_count": 25,
   "metadata": {},
   "outputs": [
    {
     "output_type": "execute_result",
     "data": {
      "text/plain": [
       "[(381912,\n",
       "  None,\n",
       "  None,\n",
       "  None,\n",
       "  None,\n",
       "  None,\n",
       "  None,\n",
       "  None,\n",
       "  None,\n",
       "  None,\n",
       "  None,\n",
       "  None,\n",
       "  None,\n",
       "  None,\n",
       "  None,\n",
       "  None,\n",
       "  None,\n",
       "  None,\n",
       "  None,\n",
       "  None,\n",
       "  13342,\n",
       "  '2004-03-02T00:00:00.000Z',\n",
       "  1,\n",
       "  94,\n",
       "  4,\n",
       "  0,\n",
       "  2003,\n",
       "  'Final',\n",
       "  ' ',\n",
       "  14,\n",
       "  93,\n",
       "  1043,\n",
       "  'Kobe',\n",
       "  None,\n",
       "  None,\n",
       "  'Bryant',\n",
       "  None,\n",
       "  14,\n",
       "  None,\n",
       "  14,\n",
       "  'LAL',\n",
       "  'Los Angeles',\n",
       "  'West',\n",
       "  'Pacific',\n",
       "  'Los Angeles Lakers',\n",
       "  'Lakers'),\n",
       " (578199,\n",
       "  None,\n",
       "  None,\n",
       "  None,\n",
       "  None,\n",
       "  None,\n",
       "  None,\n",
       "  None,\n",
       "  None,\n",
       "  None,\n",
       "  None,\n",
       "  None,\n",
       "  None,\n",
       "  None,\n",
       "  None,\n",
       "  None,\n",
       "  None,\n",
       "  None,\n",
       "  None,\n",
       "  None,\n",
       "  26867,\n",
       "  '2010-04-14T00:00:00.000Z',\n",
       "  13,\n",
       "  107,\n",
       "  4,\n",
       "  0,\n",
       "  2009,\n",
       "  'Final',\n",
       "  ' ',\n",
       "  14,\n",
       "  91,\n",
       "  1043,\n",
       "  'Kobe',\n",
       "  None,\n",
       "  None,\n",
       "  'Bryant',\n",
       "  None,\n",
       "  14,\n",
       "  None,\n",
       "  14,\n",
       "  'LAL',\n",
       "  'Los Angeles',\n",
       "  'West',\n",
       "  'Pacific',\n",
       "  'Los Angeles Lakers',\n",
       "  'Lakers'),\n",
       " (637833,\n",
       "  None,\n",
       "  None,\n",
       "  None,\n",
       "  None,\n",
       "  None,\n",
       "  None,\n",
       "  None,\n",
       "  None,\n",
       "  None,\n",
       "  None,\n",
       "  None,\n",
       "  None,\n",
       "  None,\n",
       "  None,\n",
       "  None,\n",
       "  None,\n",
       "  None,\n",
       "  None,\n",
       "  None,\n",
       "  29771,\n",
       "  '2012-04-26T00:00:00.000Z',\n",
       "  26,\n",
       "  113,\n",
       "  4,\n",
       "  0,\n",
       "  2011,\n",
       "  'Final',\n",
       "  ' ',\n",
       "  14,\n",
       "  96,\n",
       "  1043,\n",
       "  'Kobe',\n",
       "  None,\n",
       "  None,\n",
       "  'Bryant',\n",
       "  None,\n",
       "  14,\n",
       "  None,\n",
       "  14,\n",
       "  'LAL',\n",
       "  'Los Angeles',\n",
       "  'West',\n",
       "  'Pacific',\n",
       "  'Los Angeles Lakers',\n",
       "  'Lakers'),\n",
       " (725940,\n",
       "  None,\n",
       "  None,\n",
       "  None,\n",
       "  None,\n",
       "  None,\n",
       "  None,\n",
       "  None,\n",
       "  None,\n",
       "  None,\n",
       "  None,\n",
       "  None,\n",
       "  None,\n",
       "  None,\n",
       "  None,\n",
       "  None,\n",
       "  None,\n",
       "  None,\n",
       "  None,\n",
       "  None,\n",
       "  28872,\n",
       "  '2015-02-01T00:00:00.000Z',\n",
       "  20,\n",
       "  92,\n",
       "  4,\n",
       "  0,\n",
       "  2014,\n",
       "  'Final',\n",
       "  ' ',\n",
       "  14,\n",
       "  80,\n",
       "  1043,\n",
       "  'Kobe',\n",
       "  None,\n",
       "  None,\n",
       "  'Bryant',\n",
       "  None,\n",
       "  14,\n",
       "  None,\n",
       "  14,\n",
       "  'LAL',\n",
       "  'Los Angeles',\n",
       "  'West',\n",
       "  'Pacific',\n",
       "  'Los Angeles Lakers',\n",
       "  'Lakers'),\n",
       " (730989,\n",
       "  None,\n",
       "  None,\n",
       "  None,\n",
       "  None,\n",
       "  None,\n",
       "  None,\n",
       "  None,\n",
       "  None,\n",
       "  None,\n",
       "  None,\n",
       "  None,\n",
       "  None,\n",
       "  None,\n",
       "  None,\n",
       "  None,\n",
       "  None,\n",
       "  None,\n",
       "  None,\n",
       "  None,\n",
       "  29825,\n",
       "  '2015-03-06T00:00:00.000Z',\n",
       "  15,\n",
       "  97,\n",
       "  4,\n",
       "  0,\n",
       "  2014,\n",
       "  'Final',\n",
       "  ' ',\n",
       "  14,\n",
       "  90,\n",
       "  1043,\n",
       "  'Kobe',\n",
       "  None,\n",
       "  None,\n",
       "  'Bryant',\n",
       "  None,\n",
       "  14,\n",
       "  None,\n",
       "  14,\n",
       "  'LAL',\n",
       "  'Los Angeles',\n",
       "  'West',\n",
       "  'Pacific',\n",
       "  'Los Angeles Lakers',\n",
       "  'Lakers')]"
      ]
     },
     "metadata": {},
     "execution_count": 25
    }
   ],
   "source": [
    "c.execute('''SELECT * FROM kobe LIMIT 5''').fetchall()"
   ]
  },
  {
   "cell_type": "code",
   "execution_count": 14,
   "metadata": {},
   "outputs": [
    {
     "output_type": "execute_result",
     "data": {
      "text/plain": [
       "[('LeBron James', '1610612747', '2544', 2019),\n",
       " ('LeBron James', '1610612747', '2544', 2018),\n",
       " ('LeBron James', '1610612739', '2544', 2017),\n",
       " ('LeBron James', '1610612739', '2544', 2016),\n",
       " ('LeBron James', '1610612739', '2544', 2015),\n",
       " ('LeBron James', '1610612739', '2544', 2014),\n",
       " ('LeBron James', '1610612748', '2544', 2013),\n",
       " ('LeBron James', '1610612748', '2544', 2012),\n",
       " ('LeBron James', '1610612748', '2544', 2011),\n",
       " ('LeBron James', '1610612748', '2544', 2010),\n",
       " ('LeBron James', '1610612739', '2544', 2009),\n",
       " ('LeBron James', '1610612747', '2544', 2019),\n",
       " ('LeBron James', '1610612747', '2544', 2018),\n",
       " ('LeBron James', '1610612739', '2544', 2017),\n",
       " ('LeBron James', '1610612739', '2544', 2016),\n",
       " ('LeBron James', '1610612739', '2544', 2015),\n",
       " ('LeBron James', '1610612739', '2544', 2014),\n",
       " ('LeBron James', '1610612748', '2544', 2013),\n",
       " ('LeBron James', '1610612748', '2544', 2012),\n",
       " ('LeBron James', '1610612748', '2544', 2011),\n",
       " ('LeBron James', '1610612748', '2544', 2010),\n",
       " ('LeBron James', '1610612739', '2544', 2009),\n",
       " ('LeBron James', '1610612747', '2544', 2019),\n",
       " ('LeBron James', '1610612747', '2544', 2018),\n",
       " ('LeBron James', '1610612739', '2544', 2017),\n",
       " ('LeBron James', '1610612739', '2544', 2016),\n",
       " ('LeBron James', '1610612739', '2544', 2015),\n",
       " ('LeBron James', '1610612739', '2544', 2014),\n",
       " ('LeBron James', '1610612748', '2544', 2013),\n",
       " ('LeBron James', '1610612748', '2544', 2012),\n",
       " ('LeBron James', '1610612748', '2544', 2011),\n",
       " ('LeBron James', '1610612748', '2544', 2010),\n",
       " ('LeBron James', '1610612739', '2544', 2009)]"
      ]
     },
     "metadata": {},
     "execution_count": 14
    }
   ],
   "source": [
    "# Kobe ID is 977, Lebron ID is 2544\n",
    "# testing select statement for filtering by player id\n",
    "c.execute('''SELECT * FROM players WHERE PLAYER_ID = 2544''').fetchall()"
   ]
  },
  {
   "cell_type": "code",
   "execution_count": 28,
   "metadata": {},
   "outputs": [
    {
     "output_type": "error",
     "ename": "SyntaxError",
     "evalue": "EOF while scanning triple-quoted string literal (<ipython-input-28-acdce021d307>, line 3)",
     "traceback": [
      "\u001b[0;36m  File \u001b[0;32m\"<ipython-input-28-acdce021d307>\"\u001b[0;36m, line \u001b[0;32m3\u001b[0m\n\u001b[0;31m    c.fetchall()\u001b[0m\n\u001b[0m                \n^\u001b[0m\n\u001b[0;31mSyntaxError\u001b[0m\u001b[0;31m:\u001b[0m EOF while scanning triple-quoted string literal\n"
     ]
    }
   ],
   "source": [
    "# testing the join statement to get actual game date from games table\n",
    "c.execute('''SELECT games.game_id, game_date_est, player_name, fg_pct, fg3_pct, REB, AST, STL, BLK,PF,PTS,PLUS_MINUS FROM games LEFT JOIN games_details ON games.game_id = games_details.game_id WHERE PLAYER_ID = 2544 LIMIT 5'')\n",
    "\n",
    "c.fetchall()"
   ]
  },
  {
   "cell_type": "code",
   "execution_count": 16,
   "metadata": {},
   "outputs": [
    {
     "output_type": "error",
     "ename": "OperationalError",
     "evalue": "no such column: GAME_DATE",
     "traceback": [
      "\u001b[0;31m---------------------------------------------------------------------------\u001b[0m",
      "\u001b[0;31mOperationalError\u001b[0m                          Traceback (most recent call last)",
      "\u001b[0;32m<ipython-input-16-8ccd02d1fd04>\u001b[0m in \u001b[0;36m<module>\u001b[0;34m\u001b[0m\n\u001b[1;32m      1\u001b[0m \u001b[0;31m# testing select statement to query additional stats and filtering by player id\u001b[0m\u001b[0;34m\u001b[0m\u001b[0;34m\u001b[0m\u001b[0;34m\u001b[0m\u001b[0m\n\u001b[1;32m      2\u001b[0m \u001b[0;31m# INNER JOIN games ON games.game_id = games_details.game_id  DIDN'T WORK\u001b[0m\u001b[0;34m\u001b[0m\u001b[0;34m\u001b[0m\u001b[0;34m\u001b[0m\u001b[0m\n\u001b[0;32m----> 3\u001b[0;31m \u001b[0mc\u001b[0m\u001b[0;34m.\u001b[0m\u001b[0mexecute\u001b[0m\u001b[0;34m(\u001b[0m\u001b[0;34m'''SELECT GAME_DATE, TEAM_ABBREVIATION, PLAYER_NAME, FG_PCT, FG3_PCT, FT_PCT, PTS FROM games_details LEFT JOIN games ON games.game_id = games_details.game_id WHERE PLAYER_ID = 2544 LIMIT 10'''\u001b[0m\u001b[0;34m)\u001b[0m\u001b[0;34m.\u001b[0m\u001b[0mfetchall\u001b[0m\u001b[0;34m(\u001b[0m\u001b[0;34m)\u001b[0m\u001b[0;34m\u001b[0m\u001b[0;34m\u001b[0m\u001b[0m\n\u001b[0m",
      "\u001b[0;31mOperationalError\u001b[0m: no such column: GAME_DATE"
     ]
    }
   ],
   "source": [
    "# testing select statement to query additional stats and filtering by player id\n",
    "# INNER JOIN games ON games.game_id = games_details.game_id  DIDN'T WORK\n",
    "c.execute('''SELECT GAME_DATE, TEAM_ABBREVIATION, PLAYER_NAME, FG_PCT, FG3_PCT, FT_PCT, PTS FROM games_details LEFT JOIN games ON games.game_id = games_details.game_id WHERE PLAYER_ID = 2544 LIMIT 10''').fetchall()\n"
   ]
  },
  {
   "cell_type": "code",
   "execution_count": 29,
   "metadata": {},
   "outputs": [
    {
     "output_type": "execute_result",
     "data": {
      "text/plain": [
       "     TEAM_ABBREVIATION   PLAYER_NAME  FG_PCT  FG3_PCT  FT_PCT   PTS\n",
       "0                  LAL  LeBron James   0.500    0.500   1.000  10.0\n",
       "1                  LAL  LeBron James   0.609    0.444   0.833  37.0\n",
       "2                  LAL  LeBron James   0.571    0.571   1.000  25.0\n",
       "3                  LAL  LeBron James   0.615    0.500   0.667  22.0\n",
       "4                  LAL  LeBron James   0.364    0.429   1.000  26.0\n",
       "...                ...           ...     ...      ...     ...   ...\n",
       "3373               MIA  LeBron James   0.250    0.250   0.833  10.0\n",
       "3374               MIA  LeBron James   0.545    0.000   0.500  13.0\n",
       "3375               MIA  LeBron James   0.625    0.000   0.500  11.0\n",
       "3376               MIA  LeBron James   0.545    0.000   0.889  20.0\n",
       "3377               MIA  LeBron James   0.417    0.000   0.000  10.0\n",
       "\n",
       "[3378 rows x 6 columns]"
      ],
      "text/html": "<div>\n<style scoped>\n    .dataframe tbody tr th:only-of-type {\n        vertical-align: middle;\n    }\n\n    .dataframe tbody tr th {\n        vertical-align: top;\n    }\n\n    .dataframe thead th {\n        text-align: right;\n    }\n</style>\n<table border=\"1\" class=\"dataframe\">\n  <thead>\n    <tr style=\"text-align: right;\">\n      <th></th>\n      <th>TEAM_ABBREVIATION</th>\n      <th>PLAYER_NAME</th>\n      <th>FG_PCT</th>\n      <th>FG3_PCT</th>\n      <th>FT_PCT</th>\n      <th>PTS</th>\n    </tr>\n  </thead>\n  <tbody>\n    <tr>\n      <th>0</th>\n      <td>LAL</td>\n      <td>LeBron James</td>\n      <td>0.500</td>\n      <td>0.500</td>\n      <td>1.000</td>\n      <td>10.0</td>\n    </tr>\n    <tr>\n      <th>1</th>\n      <td>LAL</td>\n      <td>LeBron James</td>\n      <td>0.609</td>\n      <td>0.444</td>\n      <td>0.833</td>\n      <td>37.0</td>\n    </tr>\n    <tr>\n      <th>2</th>\n      <td>LAL</td>\n      <td>LeBron James</td>\n      <td>0.571</td>\n      <td>0.571</td>\n      <td>1.000</td>\n      <td>25.0</td>\n    </tr>\n    <tr>\n      <th>3</th>\n      <td>LAL</td>\n      <td>LeBron James</td>\n      <td>0.615</td>\n      <td>0.500</td>\n      <td>0.667</td>\n      <td>22.0</td>\n    </tr>\n    <tr>\n      <th>4</th>\n      <td>LAL</td>\n      <td>LeBron James</td>\n      <td>0.364</td>\n      <td>0.429</td>\n      <td>1.000</td>\n      <td>26.0</td>\n    </tr>\n    <tr>\n      <th>...</th>\n      <td>...</td>\n      <td>...</td>\n      <td>...</td>\n      <td>...</td>\n      <td>...</td>\n      <td>...</td>\n    </tr>\n    <tr>\n      <th>3373</th>\n      <td>MIA</td>\n      <td>LeBron James</td>\n      <td>0.250</td>\n      <td>0.250</td>\n      <td>0.833</td>\n      <td>10.0</td>\n    </tr>\n    <tr>\n      <th>3374</th>\n      <td>MIA</td>\n      <td>LeBron James</td>\n      <td>0.545</td>\n      <td>0.000</td>\n      <td>0.500</td>\n      <td>13.0</td>\n    </tr>\n    <tr>\n      <th>3375</th>\n      <td>MIA</td>\n      <td>LeBron James</td>\n      <td>0.625</td>\n      <td>0.000</td>\n      <td>0.500</td>\n      <td>11.0</td>\n    </tr>\n    <tr>\n      <th>3376</th>\n      <td>MIA</td>\n      <td>LeBron James</td>\n      <td>0.545</td>\n      <td>0.000</td>\n      <td>0.889</td>\n      <td>20.0</td>\n    </tr>\n    <tr>\n      <th>3377</th>\n      <td>MIA</td>\n      <td>LeBron James</td>\n      <td>0.417</td>\n      <td>0.000</td>\n      <td>0.000</td>\n      <td>10.0</td>\n    </tr>\n  </tbody>\n</table>\n<p>3378 rows × 6 columns</p>\n</div>"
     },
     "metadata": {},
     "execution_count": 29
    }
   ],
   "source": [
    "# testing select statement to query additional stats and filtering by player id in a DataFrame\n",
    "pd.read_sql('''SELECT TEAM_ABBREVIATION, PLAYER_NAME, FG_PCT, FG3_PCT, FT_PCT, PTS FROM games_details WHERE PLAYER_ID = 2544''', conn)\n"
   ]
  },
  {
   "cell_type": "code",
   "execution_count": 18,
   "metadata": {},
   "outputs": [
    {
     "output_type": "execute_result",
     "data": {
      "text/plain": [
       "      opposing_team  VISITOR_TEAM_ID TEAM_ABBREVIATION   GAME_ID  \\\n",
       "0               ATL       1610612737               LAL  22000640   \n",
       "1               ATL       1610612737               LAL  22000640   \n",
       "2               ATL       1610612737               LAL  22000640   \n",
       "3               ATL       1610612737               LAL  22000640   \n",
       "4               ATL       1610612737               LAL  22000640   \n",
       "...             ...              ...               ...       ...   \n",
       "30469           MIA       1610612748               MIA  11200008   \n",
       "30470           MIA       1610612748               MIA  11200008   \n",
       "30471           MIA       1610612748               MIA  11200008   \n",
       "30472           MIA       1610612748               MIA  11200008   \n",
       "30473           MIA       1610612748               MIA  11200008   \n",
       "\n",
       "      GAME_DATE_EST   PLAYER_NAME  FG_PCT  FG3_PCT  REB  AST  STL  BLK   PF  \\\n",
       "0        2021-03-20  LeBron James   0.500      0.5  1.0  4.0  0.0  0.0  0.0   \n",
       "1        2021-03-20  LeBron James   0.500      0.5  1.0  4.0  0.0  0.0  0.0   \n",
       "2        2021-03-20  LeBron James   0.500      0.5  1.0  4.0  0.0  0.0  0.0   \n",
       "3        2021-03-20  LeBron James   0.500      0.5  1.0  4.0  0.0  0.0  0.0   \n",
       "4        2021-03-20  LeBron James   0.500      0.5  1.0  4.0  0.0  0.0  0.0   \n",
       "...             ...           ...     ...      ...  ...  ...  ...  ...  ...   \n",
       "30469    2012-10-07  LeBron James   0.417      0.0  6.0  6.0  1.0  0.0  0.0   \n",
       "30470    2012-10-07  LeBron James   0.417      0.0  6.0  6.0  1.0  0.0  0.0   \n",
       "30471    2012-10-07  LeBron James   0.417      0.0  6.0  6.0  1.0  0.0  0.0   \n",
       "30472    2012-10-07  LeBron James   0.417      0.0  6.0  6.0  1.0  0.0  0.0   \n",
       "30473    2012-10-07  LeBron James   0.417      0.0  6.0  6.0  1.0  0.0  0.0   \n",
       "\n",
       "        PTS  PLUS_MINUS  \n",
       "0      10.0        -5.0  \n",
       "1      10.0        -5.0  \n",
       "2      10.0        -5.0  \n",
       "3      10.0        -5.0  \n",
       "4      10.0        -5.0  \n",
       "...     ...         ...  \n",
       "30469  10.0         NaN  \n",
       "30470  10.0         NaN  \n",
       "30471  10.0         NaN  \n",
       "30472  10.0         NaN  \n",
       "30473  10.0         NaN  \n",
       "\n",
       "[30474 rows x 15 columns]"
      ],
      "text/html": "<div>\n<style scoped>\n    .dataframe tbody tr th:only-of-type {\n        vertical-align: middle;\n    }\n\n    .dataframe tbody tr th {\n        vertical-align: top;\n    }\n\n    .dataframe thead th {\n        text-align: right;\n    }\n</style>\n<table border=\"1\" class=\"dataframe\">\n  <thead>\n    <tr style=\"text-align: right;\">\n      <th></th>\n      <th>opposing_team</th>\n      <th>VISITOR_TEAM_ID</th>\n      <th>TEAM_ABBREVIATION</th>\n      <th>GAME_ID</th>\n      <th>GAME_DATE_EST</th>\n      <th>PLAYER_NAME</th>\n      <th>FG_PCT</th>\n      <th>FG3_PCT</th>\n      <th>REB</th>\n      <th>AST</th>\n      <th>STL</th>\n      <th>BLK</th>\n      <th>PF</th>\n      <th>PTS</th>\n      <th>PLUS_MINUS</th>\n    </tr>\n  </thead>\n  <tbody>\n    <tr>\n      <th>0</th>\n      <td>ATL</td>\n      <td>1610612737</td>\n      <td>LAL</td>\n      <td>22000640</td>\n      <td>2021-03-20</td>\n      <td>LeBron James</td>\n      <td>0.500</td>\n      <td>0.5</td>\n      <td>1.0</td>\n      <td>4.0</td>\n      <td>0.0</td>\n      <td>0.0</td>\n      <td>0.0</td>\n      <td>10.0</td>\n      <td>-5.0</td>\n    </tr>\n    <tr>\n      <th>1</th>\n      <td>ATL</td>\n      <td>1610612737</td>\n      <td>LAL</td>\n      <td>22000640</td>\n      <td>2021-03-20</td>\n      <td>LeBron James</td>\n      <td>0.500</td>\n      <td>0.5</td>\n      <td>1.0</td>\n      <td>4.0</td>\n      <td>0.0</td>\n      <td>0.0</td>\n      <td>0.0</td>\n      <td>10.0</td>\n      <td>-5.0</td>\n    </tr>\n    <tr>\n      <th>2</th>\n      <td>ATL</td>\n      <td>1610612737</td>\n      <td>LAL</td>\n      <td>22000640</td>\n      <td>2021-03-20</td>\n      <td>LeBron James</td>\n      <td>0.500</td>\n      <td>0.5</td>\n      <td>1.0</td>\n      <td>4.0</td>\n      <td>0.0</td>\n      <td>0.0</td>\n      <td>0.0</td>\n      <td>10.0</td>\n      <td>-5.0</td>\n    </tr>\n    <tr>\n      <th>3</th>\n      <td>ATL</td>\n      <td>1610612737</td>\n      <td>LAL</td>\n      <td>22000640</td>\n      <td>2021-03-20</td>\n      <td>LeBron James</td>\n      <td>0.500</td>\n      <td>0.5</td>\n      <td>1.0</td>\n      <td>4.0</td>\n      <td>0.0</td>\n      <td>0.0</td>\n      <td>0.0</td>\n      <td>10.0</td>\n      <td>-5.0</td>\n    </tr>\n    <tr>\n      <th>4</th>\n      <td>ATL</td>\n      <td>1610612737</td>\n      <td>LAL</td>\n      <td>22000640</td>\n      <td>2021-03-20</td>\n      <td>LeBron James</td>\n      <td>0.500</td>\n      <td>0.5</td>\n      <td>1.0</td>\n      <td>4.0</td>\n      <td>0.0</td>\n      <td>0.0</td>\n      <td>0.0</td>\n      <td>10.0</td>\n      <td>-5.0</td>\n    </tr>\n    <tr>\n      <th>...</th>\n      <td>...</td>\n      <td>...</td>\n      <td>...</td>\n      <td>...</td>\n      <td>...</td>\n      <td>...</td>\n      <td>...</td>\n      <td>...</td>\n      <td>...</td>\n      <td>...</td>\n      <td>...</td>\n      <td>...</td>\n      <td>...</td>\n      <td>...</td>\n      <td>...</td>\n    </tr>\n    <tr>\n      <th>30469</th>\n      <td>MIA</td>\n      <td>1610612748</td>\n      <td>MIA</td>\n      <td>11200008</td>\n      <td>2012-10-07</td>\n      <td>LeBron James</td>\n      <td>0.417</td>\n      <td>0.0</td>\n      <td>6.0</td>\n      <td>6.0</td>\n      <td>1.0</td>\n      <td>0.0</td>\n      <td>0.0</td>\n      <td>10.0</td>\n      <td>NaN</td>\n    </tr>\n    <tr>\n      <th>30470</th>\n      <td>MIA</td>\n      <td>1610612748</td>\n      <td>MIA</td>\n      <td>11200008</td>\n      <td>2012-10-07</td>\n      <td>LeBron James</td>\n      <td>0.417</td>\n      <td>0.0</td>\n      <td>6.0</td>\n      <td>6.0</td>\n      <td>1.0</td>\n      <td>0.0</td>\n      <td>0.0</td>\n      <td>10.0</td>\n      <td>NaN</td>\n    </tr>\n    <tr>\n      <th>30471</th>\n      <td>MIA</td>\n      <td>1610612748</td>\n      <td>MIA</td>\n      <td>11200008</td>\n      <td>2012-10-07</td>\n      <td>LeBron James</td>\n      <td>0.417</td>\n      <td>0.0</td>\n      <td>6.0</td>\n      <td>6.0</td>\n      <td>1.0</td>\n      <td>0.0</td>\n      <td>0.0</td>\n      <td>10.0</td>\n      <td>NaN</td>\n    </tr>\n    <tr>\n      <th>30472</th>\n      <td>MIA</td>\n      <td>1610612748</td>\n      <td>MIA</td>\n      <td>11200008</td>\n      <td>2012-10-07</td>\n      <td>LeBron James</td>\n      <td>0.417</td>\n      <td>0.0</td>\n      <td>6.0</td>\n      <td>6.0</td>\n      <td>1.0</td>\n      <td>0.0</td>\n      <td>0.0</td>\n      <td>10.0</td>\n      <td>NaN</td>\n    </tr>\n    <tr>\n      <th>30473</th>\n      <td>MIA</td>\n      <td>1610612748</td>\n      <td>MIA</td>\n      <td>11200008</td>\n      <td>2012-10-07</td>\n      <td>LeBron James</td>\n      <td>0.417</td>\n      <td>0.0</td>\n      <td>6.0</td>\n      <td>6.0</td>\n      <td>1.0</td>\n      <td>0.0</td>\n      <td>0.0</td>\n      <td>10.0</td>\n      <td>NaN</td>\n    </tr>\n  </tbody>\n</table>\n<p>30474 rows × 15 columns</p>\n</div>"
     },
     "metadata": {},
     "execution_count": 18
    }
   ],
   "source": [
    "lebron_data = pd.read_sql('''SELECT teams.abbreviation AS opposing_team, visitor_team_id, team_abbreviation, games.game_id, game_date_est, player_name, fg_pct, fg3_pct, REB, AST, STL, BLK,PF,PTS,PLUS_MINUS FROM games LEFT JOIN games_details ON games.game_id = games_details.game_id LEFT JOIN teams ON teams.team_id = games.VISITOR_TEAM_ID WHERE PLAYER_ID = 2544''', conn)\n",
    "lebron_data"
   ]
  },
  {
   "cell_type": "code",
   "execution_count": 30,
   "metadata": {},
   "outputs": [
    {
     "output_type": "execute_result",
     "data": {
      "text/plain": [
       "           id  ast  blk  dreb  fg3_pct  fg3a  fg3m  fg_pct   fga   fgm  ...  \\\n",
       "0      381912  NaN  NaN   NaN      NaN   NaN   NaN     NaN   NaN   NaN  ...   \n",
       "1      578199  NaN  NaN   NaN      NaN   NaN   NaN     NaN   NaN   NaN  ...   \n",
       "2      637833  NaN  NaN   NaN      NaN   NaN   NaN     NaN   NaN   NaN  ...   \n",
       "3      725940  NaN  NaN   NaN      NaN   NaN   NaN     NaN   NaN   NaN  ...   \n",
       "4      730989  NaN  NaN   NaN      NaN   NaN   NaN     NaN   NaN   NaN  ...   \n",
       "...       ...  ...  ...   ...      ...   ...   ...     ...   ...   ...  ...   \n",
       "6679   771510  4.0  0.0   3.0    0.333   9.0   3.0   0.267  15.0   4.0  ...   \n",
       "6680   771859  1.0  0.0   2.0    0.364  11.0   4.0   0.455  22.0  10.0  ...   \n",
       "6681   771986  0.0  0.0   1.0    0.333   9.0   3.0   0.333  12.0   4.0  ...   \n",
       "6682   772263  4.0  1.0   4.0    0.286  21.0   6.0   0.440  50.0  22.0  ...   \n",
       "6683  1068133  4.0  2.0   1.0    0.200   5.0   1.0   0.400  10.0   4.0  ...   \n",
       "\n",
       "      player.position  player.team_id  player.weight_pounds team.id  \\\n",
       "0                None              14                  None      14   \n",
       "1                None              14                  None      14   \n",
       "2                None              14                  None      14   \n",
       "3                None              14                  None      14   \n",
       "4                None              14                  None      14   \n",
       "...               ...             ...                   ...     ...   \n",
       "6679             None              14                  None      14   \n",
       "6680             None              14                  None      14   \n",
       "6681             None              14                  None      14   \n",
       "6682             None              14                  None      14   \n",
       "6683             None              14                  None      14   \n",
       "\n",
       "      team.abbreviation    team.city  team.conference  team.division  \\\n",
       "0                   LAL  Los Angeles             West        Pacific   \n",
       "1                   LAL  Los Angeles             West        Pacific   \n",
       "2                   LAL  Los Angeles             West        Pacific   \n",
       "3                   LAL  Los Angeles             West        Pacific   \n",
       "4                   LAL  Los Angeles             West        Pacific   \n",
       "...                 ...          ...              ...            ...   \n",
       "6679                LAL  Los Angeles             West        Pacific   \n",
       "6680                LAL  Los Angeles             West        Pacific   \n",
       "6681                LAL  Los Angeles             West        Pacific   \n",
       "6682                LAL  Los Angeles             West        Pacific   \n",
       "6683                LAL  Los Angeles             West        Pacific   \n",
       "\n",
       "          team.full_name  team.name  \n",
       "0     Los Angeles Lakers     Lakers  \n",
       "1     Los Angeles Lakers     Lakers  \n",
       "2     Los Angeles Lakers     Lakers  \n",
       "3     Los Angeles Lakers     Lakers  \n",
       "4     Los Angeles Lakers     Lakers  \n",
       "...                  ...        ...  \n",
       "6679  Los Angeles Lakers     Lakers  \n",
       "6680  Los Angeles Lakers     Lakers  \n",
       "6681  Los Angeles Lakers     Lakers  \n",
       "6682  Los Angeles Lakers     Lakers  \n",
       "6683  Los Angeles Lakers     Lakers  \n",
       "\n",
       "[6684 rows x 46 columns]"
      ],
      "text/html": "<div>\n<style scoped>\n    .dataframe tbody tr th:only-of-type {\n        vertical-align: middle;\n    }\n\n    .dataframe tbody tr th {\n        vertical-align: top;\n    }\n\n    .dataframe thead th {\n        text-align: right;\n    }\n</style>\n<table border=\"1\" class=\"dataframe\">\n  <thead>\n    <tr style=\"text-align: right;\">\n      <th></th>\n      <th>id</th>\n      <th>ast</th>\n      <th>blk</th>\n      <th>dreb</th>\n      <th>fg3_pct</th>\n      <th>fg3a</th>\n      <th>fg3m</th>\n      <th>fg_pct</th>\n      <th>fga</th>\n      <th>fgm</th>\n      <th>...</th>\n      <th>player.position</th>\n      <th>player.team_id</th>\n      <th>player.weight_pounds</th>\n      <th>team.id</th>\n      <th>team.abbreviation</th>\n      <th>team.city</th>\n      <th>team.conference</th>\n      <th>team.division</th>\n      <th>team.full_name</th>\n      <th>team.name</th>\n    </tr>\n  </thead>\n  <tbody>\n    <tr>\n      <th>0</th>\n      <td>381912</td>\n      <td>NaN</td>\n      <td>NaN</td>\n      <td>NaN</td>\n      <td>NaN</td>\n      <td>NaN</td>\n      <td>NaN</td>\n      <td>NaN</td>\n      <td>NaN</td>\n      <td>NaN</td>\n      <td>...</td>\n      <td>None</td>\n      <td>14</td>\n      <td>None</td>\n      <td>14</td>\n      <td>LAL</td>\n      <td>Los Angeles</td>\n      <td>West</td>\n      <td>Pacific</td>\n      <td>Los Angeles Lakers</td>\n      <td>Lakers</td>\n    </tr>\n    <tr>\n      <th>1</th>\n      <td>578199</td>\n      <td>NaN</td>\n      <td>NaN</td>\n      <td>NaN</td>\n      <td>NaN</td>\n      <td>NaN</td>\n      <td>NaN</td>\n      <td>NaN</td>\n      <td>NaN</td>\n      <td>NaN</td>\n      <td>...</td>\n      <td>None</td>\n      <td>14</td>\n      <td>None</td>\n      <td>14</td>\n      <td>LAL</td>\n      <td>Los Angeles</td>\n      <td>West</td>\n      <td>Pacific</td>\n      <td>Los Angeles Lakers</td>\n      <td>Lakers</td>\n    </tr>\n    <tr>\n      <th>2</th>\n      <td>637833</td>\n      <td>NaN</td>\n      <td>NaN</td>\n      <td>NaN</td>\n      <td>NaN</td>\n      <td>NaN</td>\n      <td>NaN</td>\n      <td>NaN</td>\n      <td>NaN</td>\n      <td>NaN</td>\n      <td>...</td>\n      <td>None</td>\n      <td>14</td>\n      <td>None</td>\n      <td>14</td>\n      <td>LAL</td>\n      <td>Los Angeles</td>\n      <td>West</td>\n      <td>Pacific</td>\n      <td>Los Angeles Lakers</td>\n      <td>Lakers</td>\n    </tr>\n    <tr>\n      <th>3</th>\n      <td>725940</td>\n      <td>NaN</td>\n      <td>NaN</td>\n      <td>NaN</td>\n      <td>NaN</td>\n      <td>NaN</td>\n      <td>NaN</td>\n      <td>NaN</td>\n      <td>NaN</td>\n      <td>NaN</td>\n      <td>...</td>\n      <td>None</td>\n      <td>14</td>\n      <td>None</td>\n      <td>14</td>\n      <td>LAL</td>\n      <td>Los Angeles</td>\n      <td>West</td>\n      <td>Pacific</td>\n      <td>Los Angeles Lakers</td>\n      <td>Lakers</td>\n    </tr>\n    <tr>\n      <th>4</th>\n      <td>730989</td>\n      <td>NaN</td>\n      <td>NaN</td>\n      <td>NaN</td>\n      <td>NaN</td>\n      <td>NaN</td>\n      <td>NaN</td>\n      <td>NaN</td>\n      <td>NaN</td>\n      <td>NaN</td>\n      <td>...</td>\n      <td>None</td>\n      <td>14</td>\n      <td>None</td>\n      <td>14</td>\n      <td>LAL</td>\n      <td>Los Angeles</td>\n      <td>West</td>\n      <td>Pacific</td>\n      <td>Los Angeles Lakers</td>\n      <td>Lakers</td>\n    </tr>\n    <tr>\n      <th>...</th>\n      <td>...</td>\n      <td>...</td>\n      <td>...</td>\n      <td>...</td>\n      <td>...</td>\n      <td>...</td>\n      <td>...</td>\n      <td>...</td>\n      <td>...</td>\n      <td>...</td>\n      <td>...</td>\n      <td>...</td>\n      <td>...</td>\n      <td>...</td>\n      <td>...</td>\n      <td>...</td>\n      <td>...</td>\n      <td>...</td>\n      <td>...</td>\n      <td>...</td>\n      <td>...</td>\n    </tr>\n    <tr>\n      <th>6679</th>\n      <td>771510</td>\n      <td>4.0</td>\n      <td>0.0</td>\n      <td>3.0</td>\n      <td>0.333</td>\n      <td>9.0</td>\n      <td>3.0</td>\n      <td>0.267</td>\n      <td>15.0</td>\n      <td>4.0</td>\n      <td>...</td>\n      <td>None</td>\n      <td>14</td>\n      <td>None</td>\n      <td>14</td>\n      <td>LAL</td>\n      <td>Los Angeles</td>\n      <td>West</td>\n      <td>Pacific</td>\n      <td>Los Angeles Lakers</td>\n      <td>Lakers</td>\n    </tr>\n    <tr>\n      <th>6680</th>\n      <td>771859</td>\n      <td>1.0</td>\n      <td>0.0</td>\n      <td>2.0</td>\n      <td>0.364</td>\n      <td>11.0</td>\n      <td>4.0</td>\n      <td>0.455</td>\n      <td>22.0</td>\n      <td>10.0</td>\n      <td>...</td>\n      <td>None</td>\n      <td>14</td>\n      <td>None</td>\n      <td>14</td>\n      <td>LAL</td>\n      <td>Los Angeles</td>\n      <td>West</td>\n      <td>Pacific</td>\n      <td>Los Angeles Lakers</td>\n      <td>Lakers</td>\n    </tr>\n    <tr>\n      <th>6681</th>\n      <td>771986</td>\n      <td>0.0</td>\n      <td>0.0</td>\n      <td>1.0</td>\n      <td>0.333</td>\n      <td>9.0</td>\n      <td>3.0</td>\n      <td>0.333</td>\n      <td>12.0</td>\n      <td>4.0</td>\n      <td>...</td>\n      <td>None</td>\n      <td>14</td>\n      <td>None</td>\n      <td>14</td>\n      <td>LAL</td>\n      <td>Los Angeles</td>\n      <td>West</td>\n      <td>Pacific</td>\n      <td>Los Angeles Lakers</td>\n      <td>Lakers</td>\n    </tr>\n    <tr>\n      <th>6682</th>\n      <td>772263</td>\n      <td>4.0</td>\n      <td>1.0</td>\n      <td>4.0</td>\n      <td>0.286</td>\n      <td>21.0</td>\n      <td>6.0</td>\n      <td>0.440</td>\n      <td>50.0</td>\n      <td>22.0</td>\n      <td>...</td>\n      <td>None</td>\n      <td>14</td>\n      <td>None</td>\n      <td>14</td>\n      <td>LAL</td>\n      <td>Los Angeles</td>\n      <td>West</td>\n      <td>Pacific</td>\n      <td>Los Angeles Lakers</td>\n      <td>Lakers</td>\n    </tr>\n    <tr>\n      <th>6683</th>\n      <td>1068133</td>\n      <td>4.0</td>\n      <td>2.0</td>\n      <td>1.0</td>\n      <td>0.200</td>\n      <td>5.0</td>\n      <td>1.0</td>\n      <td>0.400</td>\n      <td>10.0</td>\n      <td>4.0</td>\n      <td>...</td>\n      <td>None</td>\n      <td>14</td>\n      <td>None</td>\n      <td>14</td>\n      <td>LAL</td>\n      <td>Los Angeles</td>\n      <td>West</td>\n      <td>Pacific</td>\n      <td>Los Angeles Lakers</td>\n      <td>Lakers</td>\n    </tr>\n  </tbody>\n</table>\n<p>6684 rows × 46 columns</p>\n</div>"
     },
     "metadata": {},
     "execution_count": 30
    }
   ],
   "source": [
    "# query using new Kobe_data.csv from Kim\n",
    "#  Available Headers: id,ast,blk,dreb,min,pts,reb,stl,turnover,game.id,game.date,game.home_team_id,game.home_team_score,game.period,game.postseason,game.season,game.status,game.time,game.visitor_team_id,game.visitor_team_score,player.id,player.first_name,player.last_name,player.position,player.team_id,team.id,team.abbreviation,team.city,team.conference,team.division,team.full_name,team.name\n",
    "Kobe_stats = pd.read_sql('''SELECT * FROM kobe''', conn)\n",
    "Kobe_stats"
   ]
  },
  {
   "cell_type": "code",
   "execution_count": 19,
   "metadata": {},
   "outputs": [
    {
     "output_type": "execute_result",
     "data": {
      "text/plain": [
       "       HOME_TEAM_ID  VISITOR_TEAM_ID TEAM_ABBREVIATION     TEAM_ID   GAME_ID  \\\n",
       "0        1610612753       1610612747               LAL  1610612747  40800405   \n",
       "1        1610612753       1610612747               LAL  1610612747  40800405   \n",
       "2        1610612753       1610612747               LAL  1610612747  40800405   \n",
       "3        1610612753       1610612747               LAL  1610612747  40800405   \n",
       "4        1610612753       1610612747               LAL  1610612747  40800405   \n",
       "...             ...              ...               ...         ...       ...   \n",
       "19831    1610612747       1610612744               LAL  1610612747  11200009   \n",
       "19832    1610612747       1610612744               LAL  1610612747  11200009   \n",
       "19833    1610612747       1610612744               LAL  1610612747  11200009   \n",
       "19834    1610612747       1610612744               LAL  1610612747  11200009   \n",
       "19835    1610612747       1610612744               LAL  1610612747  11200009   \n",
       "\n",
       "      GAME_DATE_EST  PLAYER_NAME  FG_PCT  FG3_PCT  REB  AST  STL  BLK   PF  \\\n",
       "0        2009-06-14  Kobe Bryant   0.435      0.4  6.0  5.0  2.0  4.0  2.0   \n",
       "1        2009-06-14  Kobe Bryant   0.435      0.4  6.0  5.0  2.0  4.0  2.0   \n",
       "2        2009-06-14  Kobe Bryant   0.435      0.4  6.0  5.0  2.0  4.0  2.0   \n",
       "3        2009-06-14  Kobe Bryant   0.435      0.4  6.0  5.0  2.0  4.0  2.0   \n",
       "4        2009-06-14  Kobe Bryant   0.435      0.4  6.0  5.0  2.0  4.0  2.0   \n",
       "...             ...          ...     ...      ...  ...  ...  ...  ...  ...   \n",
       "19831    2012-10-07  Kobe Bryant   0.286      0.0  0.0  3.0  0.0  0.0  2.0   \n",
       "19832    2012-10-07  Kobe Bryant   0.286      0.0  0.0  3.0  0.0  0.0  2.0   \n",
       "19833    2012-10-07  Kobe Bryant   0.286      0.0  0.0  3.0  0.0  0.0  2.0   \n",
       "19834    2012-10-07  Kobe Bryant   0.286      0.0  0.0  3.0  0.0  0.0  2.0   \n",
       "19835    2012-10-07  Kobe Bryant   0.286      0.0  0.0  3.0  0.0  0.0  2.0   \n",
       "\n",
       "        PTS  PLUS_MINUS  \n",
       "0      30.0        14.0  \n",
       "1      30.0        14.0  \n",
       "2      30.0        14.0  \n",
       "3      30.0        14.0  \n",
       "4      30.0        14.0  \n",
       "...     ...         ...  \n",
       "19831  10.0         NaN  \n",
       "19832  10.0         NaN  \n",
       "19833  10.0         NaN  \n",
       "19834  10.0         NaN  \n",
       "19835  10.0         NaN  \n",
       "\n",
       "[19836 rows x 16 columns]"
      ],
      "text/html": "<div>\n<style scoped>\n    .dataframe tbody tr th:only-of-type {\n        vertical-align: middle;\n    }\n\n    .dataframe tbody tr th {\n        vertical-align: top;\n    }\n\n    .dataframe thead th {\n        text-align: right;\n    }\n</style>\n<table border=\"1\" class=\"dataframe\">\n  <thead>\n    <tr style=\"text-align: right;\">\n      <th></th>\n      <th>HOME_TEAM_ID</th>\n      <th>VISITOR_TEAM_ID</th>\n      <th>TEAM_ABBREVIATION</th>\n      <th>TEAM_ID</th>\n      <th>GAME_ID</th>\n      <th>GAME_DATE_EST</th>\n      <th>PLAYER_NAME</th>\n      <th>FG_PCT</th>\n      <th>FG3_PCT</th>\n      <th>REB</th>\n      <th>AST</th>\n      <th>STL</th>\n      <th>BLK</th>\n      <th>PF</th>\n      <th>PTS</th>\n      <th>PLUS_MINUS</th>\n    </tr>\n  </thead>\n  <tbody>\n    <tr>\n      <th>0</th>\n      <td>1610612753</td>\n      <td>1610612747</td>\n      <td>LAL</td>\n      <td>1610612747</td>\n      <td>40800405</td>\n      <td>2009-06-14</td>\n      <td>Kobe Bryant</td>\n      <td>0.435</td>\n      <td>0.4</td>\n      <td>6.0</td>\n      <td>5.0</td>\n      <td>2.0</td>\n      <td>4.0</td>\n      <td>2.0</td>\n      <td>30.0</td>\n      <td>14.0</td>\n    </tr>\n    <tr>\n      <th>1</th>\n      <td>1610612753</td>\n      <td>1610612747</td>\n      <td>LAL</td>\n      <td>1610612747</td>\n      <td>40800405</td>\n      <td>2009-06-14</td>\n      <td>Kobe Bryant</td>\n      <td>0.435</td>\n      <td>0.4</td>\n      <td>6.0</td>\n      <td>5.0</td>\n      <td>2.0</td>\n      <td>4.0</td>\n      <td>2.0</td>\n      <td>30.0</td>\n      <td>14.0</td>\n    </tr>\n    <tr>\n      <th>2</th>\n      <td>1610612753</td>\n      <td>1610612747</td>\n      <td>LAL</td>\n      <td>1610612747</td>\n      <td>40800405</td>\n      <td>2009-06-14</td>\n      <td>Kobe Bryant</td>\n      <td>0.435</td>\n      <td>0.4</td>\n      <td>6.0</td>\n      <td>5.0</td>\n      <td>2.0</td>\n      <td>4.0</td>\n      <td>2.0</td>\n      <td>30.0</td>\n      <td>14.0</td>\n    </tr>\n    <tr>\n      <th>3</th>\n      <td>1610612753</td>\n      <td>1610612747</td>\n      <td>LAL</td>\n      <td>1610612747</td>\n      <td>40800405</td>\n      <td>2009-06-14</td>\n      <td>Kobe Bryant</td>\n      <td>0.435</td>\n      <td>0.4</td>\n      <td>6.0</td>\n      <td>5.0</td>\n      <td>2.0</td>\n      <td>4.0</td>\n      <td>2.0</td>\n      <td>30.0</td>\n      <td>14.0</td>\n    </tr>\n    <tr>\n      <th>4</th>\n      <td>1610612753</td>\n      <td>1610612747</td>\n      <td>LAL</td>\n      <td>1610612747</td>\n      <td>40800405</td>\n      <td>2009-06-14</td>\n      <td>Kobe Bryant</td>\n      <td>0.435</td>\n      <td>0.4</td>\n      <td>6.0</td>\n      <td>5.0</td>\n      <td>2.0</td>\n      <td>4.0</td>\n      <td>2.0</td>\n      <td>30.0</td>\n      <td>14.0</td>\n    </tr>\n    <tr>\n      <th>...</th>\n      <td>...</td>\n      <td>...</td>\n      <td>...</td>\n      <td>...</td>\n      <td>...</td>\n      <td>...</td>\n      <td>...</td>\n      <td>...</td>\n      <td>...</td>\n      <td>...</td>\n      <td>...</td>\n      <td>...</td>\n      <td>...</td>\n      <td>...</td>\n      <td>...</td>\n      <td>...</td>\n    </tr>\n    <tr>\n      <th>19831</th>\n      <td>1610612747</td>\n      <td>1610612744</td>\n      <td>LAL</td>\n      <td>1610612747</td>\n      <td>11200009</td>\n      <td>2012-10-07</td>\n      <td>Kobe Bryant</td>\n      <td>0.286</td>\n      <td>0.0</td>\n      <td>0.0</td>\n      <td>3.0</td>\n      <td>0.0</td>\n      <td>0.0</td>\n      <td>2.0</td>\n      <td>10.0</td>\n      <td>NaN</td>\n    </tr>\n    <tr>\n      <th>19832</th>\n      <td>1610612747</td>\n      <td>1610612744</td>\n      <td>LAL</td>\n      <td>1610612747</td>\n      <td>11200009</td>\n      <td>2012-10-07</td>\n      <td>Kobe Bryant</td>\n      <td>0.286</td>\n      <td>0.0</td>\n      <td>0.0</td>\n      <td>3.0</td>\n      <td>0.0</td>\n      <td>0.0</td>\n      <td>2.0</td>\n      <td>10.0</td>\n      <td>NaN</td>\n    </tr>\n    <tr>\n      <th>19833</th>\n      <td>1610612747</td>\n      <td>1610612744</td>\n      <td>LAL</td>\n      <td>1610612747</td>\n      <td>11200009</td>\n      <td>2012-10-07</td>\n      <td>Kobe Bryant</td>\n      <td>0.286</td>\n      <td>0.0</td>\n      <td>0.0</td>\n      <td>3.0</td>\n      <td>0.0</td>\n      <td>0.0</td>\n      <td>2.0</td>\n      <td>10.0</td>\n      <td>NaN</td>\n    </tr>\n    <tr>\n      <th>19834</th>\n      <td>1610612747</td>\n      <td>1610612744</td>\n      <td>LAL</td>\n      <td>1610612747</td>\n      <td>11200009</td>\n      <td>2012-10-07</td>\n      <td>Kobe Bryant</td>\n      <td>0.286</td>\n      <td>0.0</td>\n      <td>0.0</td>\n      <td>3.0</td>\n      <td>0.0</td>\n      <td>0.0</td>\n      <td>2.0</td>\n      <td>10.0</td>\n      <td>NaN</td>\n    </tr>\n    <tr>\n      <th>19835</th>\n      <td>1610612747</td>\n      <td>1610612744</td>\n      <td>LAL</td>\n      <td>1610612747</td>\n      <td>11200009</td>\n      <td>2012-10-07</td>\n      <td>Kobe Bryant</td>\n      <td>0.286</td>\n      <td>0.0</td>\n      <td>0.0</td>\n      <td>3.0</td>\n      <td>0.0</td>\n      <td>0.0</td>\n      <td>2.0</td>\n      <td>10.0</td>\n      <td>NaN</td>\n    </tr>\n  </tbody>\n</table>\n<p>19836 rows × 16 columns</p>\n</div>"
     },
     "metadata": {},
     "execution_count": 19
    }
   ],
   "source": [
    "kobe_data = pd.read_sql('''SELECT home_team_id, visitor_team_id, team_abbreviation, games_details.team_id, games.game_id, game_date_est, player_name, fg_pct, fg3_pct, REB, AST, STL, BLK,PF,PTS,PLUS_MINUS FROM games LEFT JOIN games_details ON games.game_id = games_details.game_id LEFT JOIN teams ON teams.team_id = games.VISITOR_TEAM_ID WHERE PLAYER_ID = 977''', conn)\n",
    "kobe_data"
   ]
  },
  {
   "cell_type": "code",
   "execution_count": 20,
   "metadata": {},
   "outputs": [
    {
     "output_type": "execute_result",
     "data": {
      "text/plain": [
       "array(['LAL', 'CLE', 'MIA'], dtype=object)"
      ]
     },
     "metadata": {},
     "execution_count": 20
    }
   ],
   "source": [
    "lebron_data['TEAM_ABBREVIATION'].unique()"
   ]
  },
  {
   "cell_type": "code",
   "execution_count": 21,
   "metadata": {},
   "outputs": [],
   "source": [
    " conn.close()"
   ]
  },
  {
   "cell_type": "code",
   "execution_count": null,
   "metadata": {},
   "outputs": [],
   "source": []
  }
 ]
}