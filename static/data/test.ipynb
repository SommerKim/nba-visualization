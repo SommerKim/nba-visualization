{
 "cells": [
  {
   "cell_type": "code",
   "execution_count": 1,
   "metadata": {},
   "outputs": [],
   "source": [
    "import requests\n",
    "import json\n",
    "import sqlite3\n",
    "from sqlite3 import Error\n",
    "import pandas as pd\n",
    "from datetime import datetime"
   ]
  },
  {
   "cell_type": "code",
   "execution_count": null,
   "metadata": {
    "tags": [
     "outputPrepend"
    ]
   },
   "outputs": [],
   "source": [
    "# headers = {\n",
    "#     'x-rapidapi-key': \"38bab05df5msh928211553580d9cp181186jsne583ad5bd5cd\",\n",
    "#     'x-rapidapi-host': \"free-nba.p.rapidapi.com\"\n",
    "#     }\n",
    "# page = 1\n",
    "# results = []\n",
    "# while True:\n",
    "\n",
    "\n",
    "#     url = \"https://free-nba.p.rapidapi.com/stats\"\n",
    "\n",
    "#     querystring = {\"page\": page,\"per_page\":\"100\"}\n",
    "#     response = requests.request(\"GET\", url, headers=headers, params=querystring)\n",
    "#     data = response.json()\n",
    "#     if len(data['data']) <= 0:\n",
    "#         break\n",
    "#     results += data['data']\n",
    "#     print(response.json())\n",
    "#     break\n",
    "\n",
    "#     page += 1\n",
    "\n",
    "#     print(response.json())\n",
    "\n"
   ]
  },
  {
   "cell_type": "code",
   "execution_count": null,
   "metadata": {},
   "outputs": [],
   "source": [
    "# query nba api for all team data\n",
    "import requests\n",
    "\n",
    "url = \"https://free-nba.p.rapidapi.com/teams\"\n",
    "\n",
    "querystring = {\"page\":\"0\"}\n",
    "\n",
    "headers = {\n",
    "    'x-rapidapi-key': \"38bab05df5msh928211553580d9cp181186jsne583ad5bd5cd\",\n",
    "    'x-rapidapi-host': \"free-nba.p.rapidapi.com\"\n",
    "    }\n",
    "\n",
    "response = requests.request(\"GET\", url, headers=headers, params=querystring)\n",
    "# store response in variable\n",
    "data = response.json()\n",
    "\n",
    "print(data)"
   ]
  },
  {
   "cell_type": "code",
   "execution_count": null,
   "metadata": {},
   "outputs": [],
   "source": [
    "# write(dump) the json data to a json file\n",
    "with open('team_data.json', 'w') as json_file:\n",
    "    json.dump(data, json_file, indent=2)\n",
    "    json_file.close()"
   ]
  },
  {
   "cell_type": "code",
   "execution_count": null,
   "metadata": {
    "tags": []
   },
   "outputs": [],
   "source": [
    "# load data using Python module into var data\n",
    "with open('team_data.json', 'r') as f:\n",
    "    data = json.loads(f.read())\n",
    "    "
   ]
  },
  {
   "cell_type": "code",
   "execution_count": null,
   "metadata": {},
   "outputs": [],
   "source": [
    "# normalize data as it's nested under 'data' and create dataframe\n",
    "team_data = pd.json_normalize(data, record_path=['data'])\n",
    "# send df to csv\n",
    "team_data.to_csv(r'team_data.csv', index=False)"
   ]
  },
  {
   "cell_type": "code",
   "execution_count": null,
   "metadata": {},
   "outputs": [],
   "source": [
    "\n",
    "# # found how to create db in sqlite3 here:  https://www.sqlitetutorial.net/sqlite-python/insert/\n",
    "\n",
    "# def create_connection(db_file):\n",
    "#     \"\"\" create a database connection to a SQLite database \"\"\"\n",
    "#     conn = None\n",
    "#     try:\n",
    "#         conn = sqlite3.connect(db_file)\n",
    "#         c = conn.cursor()\n",
    "#         print(sqlite3.version)\n",
    "#         # this is extra code to create table and load csv into table.  Was testing here\n",
    "#         c.execute('''CREATE TABLE players (PLAYER_NAME text, TEAM_ID text, PLAYER_ID text, SEASON int)''')\n",
    "#         players = pd.read_csv('players.csv')\n",
    "#         players.to_sql('players', conn, if_exists='append', index=False)\n",
    "#         c.execute('''SELECT * FROM players''').fetchall()\n",
    "\n",
    "#     except Error as e:\n",
    "#         print(e)\n",
    "#     finally:\n",
    "#         if conn:\n",
    "#             conn.close()\n",
    "\n",
    "\n",
    "# if __name__ == '__main__':\n",
    "#     create_connection(r\"nba_test.db\")"
   ]
  },
  {
   "cell_type": "code",
   "execution_count": 2,
   "metadata": {},
   "outputs": [],
   "source": [
    "# another method of creating db and tables but without function: https://mungingdata.com/sqlite/create-database-load-csv-python/\n",
    "import sqlite3\n",
    "# create connection to build new db if nonexistent and cursor to execute queries\n",
    "conn = sqlite3.connect('nba_test')\n",
    "c = conn.cursor()"
   ]
  },
  {
   "cell_type": "code",
   "execution_count": null,
   "metadata": {},
   "outputs": [],
   "source": [
    "# create table players **testing to see if works**\n",
    "c.execute('''CREATE TABLE players (PLAYER_NAME text, TEAM_ID text, PLAYER_ID text, SEASON int)''')"
   ]
  },
  {
   "cell_type": "code",
   "execution_count": null,
   "metadata": {},
   "outputs": [],
   "source": [
    "# using pandas to read csv then push data to table created in last cell\n",
    "players = pd.read_csv('players.csv')\n",
    "players.to_sql('players', conn, if_exists='append', index=False)\n"
   ]
  },
  {
   "cell_type": "code",
   "execution_count": null,
   "metadata": {},
   "outputs": [],
   "source": [
    "# querying table to verify creation\n",
    "c.execute('''SELECT * FROM players LIMIT 5''').fetchall()"
   ]
  },
  {
   "cell_type": "code",
   "execution_count": null,
   "metadata": {},
   "outputs": [],
   "source": [
    "# create rest of tables\n",
    "players = pd.read_csv('players.csv')\n",
    "players.to_sql('players', conn, if_exists='append', index=False)\n",
    "teams = pd.read_csv('teams.csv')\n",
    "teams.to_sql('teams', conn, if_exists='append', index=False)\n",
    "games = pd.read_csv('games.csv')\n",
    "games.to_sql('games', conn, if_exists='append', index=False)\n",
    "games_details = pd.read_csv('games_details.csv')\n",
    "games_details.to_sql('games_details', conn, if_exists='append', index=False)\n",
    "kobe = pd.read_csv('kobe_data.csv')\n",
    "kobe.to_sql('kobe', conn, if_exists='append', index=False)\n",
    "lebron = pd.read_csv('lebron_data.csv')\n",
    "lebron.to_sql('lebron', conn, if_exists='append', index=False)\n",
    "team_data = pd.read_csv('team_data.csv')\n",
    "team_data.to_sql('team_data', conn , if_exists='append', index=False)"
   ]
  },
  {
   "cell_type": "code",
   "execution_count": null,
   "metadata": {},
   "outputs": [],
   "source": [
    "# create sqlite table from Kobe csv\n",
    "kobe = pd.read_csv('kobe_data.csv')\n",
    "kobe.to_sql('kobe', conn, if_exists='append', index=False)"
   ]
  },
  {
   "cell_type": "code",
   "execution_count": null,
   "metadata": {},
   "outputs": [],
   "source": [
    "team_data = pd.read_csv('team_data.csv')\n",
    "team_data.to_sql('team_data', conn , if_exists='append', index=False)"
   ]
  },
  {
   "cell_type": "code",
   "execution_count": null,
   "metadata": {},
   "outputs": [],
   "source": [
    "# create sqlite table from Lebron csv\n",
    "lebron = pd.read_csv('lebron_data.csv')\n",
    "lebron.to_sql('lebron', conn, if_exists='append', index=False)"
   ]
  },
  {
   "cell_type": "code",
   "execution_count": null,
   "metadata": {},
   "outputs": [],
   "source": [
    "#  checking lebron tabe that was just imported\n",
    "c.execute('''SELECT * FROM lebron LIMIT 5''').fetchall()\n"
   ]
  },
  {
   "cell_type": "code",
   "execution_count": null,
   "metadata": {},
   "outputs": [],
   "source": [
    "c.execute('''SELECT * FROM kobe LIMIT 5''').fetchall()"
   ]
  },
  {
   "cell_type": "code",
   "execution_count": null,
   "metadata": {},
   "outputs": [],
   "source": [
    "# Kobe ID is 977, Lebron ID is 2544\n",
    "# testing select statement for filtering by player id\n",
    "c.execute('''SELECT * FROM players WHERE PLAYER_ID = 2544''').fetchall()"
   ]
  },
  {
   "cell_type": "code",
   "execution_count": null,
   "metadata": {},
   "outputs": [],
   "source": [
    "# testing the join statement to get actual game date from games table\n",
    "c.execute('''SELECT games.game_id, game_date_est, player_name, fg_pct, fg3_pct, REB, AST, STL, BLK,PF,PTS,PLUS_MINUS FROM games LEFT JOIN games_details ON games.game_id = games_details.game_id WHERE PLAYER_ID = 2544 LIMIT 5'').fetchall()"
   ]
  },
  {
   "cell_type": "code",
   "execution_count": null,
   "metadata": {},
   "outputs": [],
   "source": [
    "# testing select statement to query additional stats and filtering by player id\n",
    "# INNER JOIN games ON games.game_id = games_details.game_id  DIDN'T WORK\n",
    "c.execute('''SELECT [game.date] from kobe LIMIT 10''').fetchall()\n"
   ]
  },
  {
   "cell_type": "code",
   "execution_count": null,
   "metadata": {},
   "outputs": [],
   "source": [
    "c.execute('''UPDATE kobe SET [game.date] = DATE_FORMAT(STR_TO_DATE([game.date], '%Y-%m-%dT%H:%i:%s.000Z'),'%Y-%m-%d')''')"
   ]
  },
  {
   "cell_type": "code",
   "execution_count": null,
   "metadata": {},
   "outputs": [],
   "source": [
    "# testing select statement to query additional stats and filtering by player id in a DataFrame\n",
    "pd.read_sql('''SELECT TEAM_ABBREVIATION, PLAYER_NAME, FG_PCT, FG3_PCT, FT_PCT, PTS FROM games_details WHERE PLAYER_ID = 2544''', conn)\n"
   ]
  },
  {
   "cell_type": "code",
   "execution_count": null,
   "metadata": {},
   "outputs": [],
   "source": [
    "lebron_data = pd.read_sql('''SELECT teams.abbreviation AS opposing_team, visitor_team_id, team_abbreviation, games.game_id, game_date_est, player_name, fg_pct, fg3_pct, REB, AST, STL, BLK,PF,PTS,PLUS_MINUS FROM games LEFT JOIN games_details ON games.game_id = games_details.game_id LEFT JOIN teams ON teams.team_id = games.VISITOR_TEAM_ID WHERE PLAYER_ID = 2544''', conn)\n",
    "lebron_data"
   ]
  },
  {
   "cell_type": "code",
   "execution_count": null,
   "metadata": {},
   "outputs": [],
   "source": [
    "# this is from the original csv and it's not complete for Kobe\n",
    "kobe_data = pd.read_sql('''SELECT home_team_id, visitor_team_id, team_abbreviation, games_details.team_id, games.game_id, game_date_est, player_name, fg_pct, fg3_pct, REB, AST, STL, BLK,PF,PTS,PLUS_MINUS FROM games LEFT JOIN games_details ON games.game_id = games_details.game_id LEFT JOIN teams ON teams.team_id = games.VISITOR_TEAM_ID WHERE PLAYER_ID = 977''', conn)\n",
    "kobe_data"
   ]
  },
  {
   "cell_type": "code",
   "execution_count": null,
   "metadata": {},
   "outputs": [],
   "source": [
    "teamdata = pd.read_sql('''SELECT * FROM team_data''', conn)\n",
    "teamdata"
   ]
  },
  {
   "cell_type": "code",
   "execution_count": null,
   "metadata": {},
   "outputs": [],
   "source": [
    "pd.set_option('display.max_columns', None)"
   ]
  },
  {
   "cell_type": "code",
   "execution_count": null,
   "metadata": {},
   "outputs": [],
   "source": [
    "# query using new Kobe_data.csv from Kim\n",
    "#  Available Headers: id,ast,blk,dreb,min,pts,reb,stl,turnover,game.id,game.date,game.home_team_id,game.home_team_score,game.period,game.postseason,game.season,game.status,game.time,game.visitor_team_id,game.visitor_team_score,player.id,player.first_name,player.last_name,player.position,player.team_id,team.id,team.abbreviation,team.city,team.conference,team.division,team.full_name,team.name\n",
    "# found solution for datetime formatting here: https://www.tutlane.com/tutorial/sqlite/sqlite-strftime-function\n",
    "Kobe_stats = pd.read_sql('''SELECT [game.id] as \"game_id\", ast,blk,min,pts,reb,stl,turnover, [game.date] as \"date\", strftime('%Y', [game.date]) as \"Year\",[game.home_team_id] as \"home_team_id\",[game.home_team_score] as \"home_team_score\", [game.visitor_team_id] as \"visitor_team_id\",[game.visitor_team_score] as \"visitor_team_score\" FROM kobe ORDER BY date ASC''', conn)\n",
    "# Kobe_stats['game.date'] = pd.to_datetime(Kobe_stats['game.date']).dt.date \n",
    "Kobe_stats"
   ]
  },
  {
   "cell_type": "code",
   "execution_count": null,
   "metadata": {},
   "outputs": [],
   "source": [
    "c.execute('''SELECT [game.id] as \"game_id\", ast,blk,min,pts,reb,stl,turnover, [game.date] as \"date\", strftime('%Y', [game.date]) as \"Year\",[game.home_team_id] as \"home_team_id\",[game.home_team_score] as \"home_team_score\", [game.visitor_team_id] as \"visitor_team_id\",[game.visitor_team_score] as \"visitor_team_score\" FROM kobe ORDER BY date ASC''').fetchall()"
   ]
  },
  {
   "cell_type": "code",
   "execution_count": null,
   "metadata": {},
   "outputs": [],
   "source": [
    "# c.execute('''SELECT [game.id] as \"game_id\" FROM kobe''').fetchall()\n",
    "# I suspect there are duplicates in the table\n",
    "kobe_total_game_id = c.execute('''SELECT COUNT([game.id]) FROM kobe''').fetchall()\n",
    "kobe_unique_game_id = c.execute('''SELECT COUNT(DISTINCT [game.id]) FROM kobe''').fetchall()\n",
    "print(f'There are {kobe_total_game_id} total records in the Kobe table')\n",
    "print(f'There are {kobe_unique_game_id} unique records in the Kobe table')"
   ]
  },
  {
   "cell_type": "code",
   "execution_count": 7,
   "metadata": {},
   "outputs": [
    {
     "data": {
      "text/plain": [
       "[(1, '1996', 106.0),\n",
       " (2, '1997', 984.0),\n",
       " (3, '1998', 827.0),\n",
       " (4, '1999', 1489.0),\n",
       " (5, '2000', 2563.0),\n",
       " (6, '2001', 2160.0),\n",
       " (7, '2002', 2680.0),\n",
       " (8, '2003', 2558.0),\n",
       " (9, '2004', 2297.0),\n",
       " (10, '2005', 1999.0),\n",
       " (11, '2006', 2883.0),\n",
       " (12, '2007', 2605.0),\n",
       " (13, '2008', 2932.0),\n",
       " (14, '2009', 3047.0),\n",
       " (15, '2010', 2536.0),\n",
       " (16, '2011', 1598.0),\n",
       " (17, '2012', 2751.0),\n",
       " (18, '2013', 1313.0),\n",
       " (19, '2014', 698.0),\n",
       " (20, '2015', 584.0),\n",
       " (21, '2016', 661.0)]"
      ]
     },
     "execution_count": 7,
     "metadata": {},
     "output_type": "execute_result"
    }
   ],
   "source": [
    "# sum of points for Kobe per year\n",
    "# got solution on how to number each row here:  https://www.sqltutorial.org/sql-window-functions/sql-row_number/\n",
    "\n",
    "kobe_pts = c.execute('''SELECT ROW_NUMBER() OVER (\n",
    "    ORDER BY strftime('%Y', [game.date])\n",
    "    )row_num,\n",
    "    strftime('%Y', [game.date]) as Year, SUM(pts) \n",
    "    FROM kobe \n",
    "    WHERE pts IS NOT NULL \n",
    "    GROUP BY Year''').fetchall()\n",
    "kobe_pts"
   ]
  },
  {
   "cell_type": "code",
   "execution_count": 8,
   "metadata": {},
   "outputs": [
    {
     "data": {
      "text/plain": [
       "[(1, '2003', 647.0),\n",
       " (2, '2004', 1715.0),\n",
       " (3, '2005', 2317.0),\n",
       " (4, '2006', 2821.0),\n",
       " (5, '2007', 2589.0),\n",
       " (6, '2008', 2730.0),\n",
       " (7, '2009', 2917.0),\n",
       " (8, '2010', 2426.0),\n",
       " (9, '2011', 1910.0),\n",
       " (10, '2012', 3010.0),\n",
       " (11, '2013', 2634.0),\n",
       " (12, '2014', 2604.0),\n",
       " (13, '2015', 2357.0),\n",
       " (14, '2016', 2471.0),\n",
       " (15, '2017', 2803.0),\n",
       " (16, '2018', 2926.0),\n",
       " (17, '2019', 1381.0),\n",
       " (18, '2020', 1576.0),\n",
       " (19, '2021', 925.0)]"
      ]
     },
     "execution_count": 8,
     "metadata": {},
     "output_type": "execute_result"
    }
   ],
   "source": [
    "# sum of points for Lebron per year\n",
    "lebron_pts = c.execute('''SELECT ROW_NUMBER() OVER (\n",
    "    ORDER BY strftime('%Y', [game.date])\n",
    "    )row_num, strftime('%Y', [game.date]) as Year, SUM(pts) \n",
    "    FROM lebron \n",
    "    WHERE pts IS NOT NULL \n",
    "    GROUP BY Year''').fetchall()\n",
    "lebron_pts"
   ]
  },
  {
   "cell_type": "code",
   "execution_count": null,
   "metadata": {},
   "outputs": [],
   "source": [
    " conn.close()"
   ]
  },
  {
   "cell_type": "code",
   "execution_count": null,
   "metadata": {},
   "outputs": [],
   "source": [
    "pd.read_sql('''SELECT * FROM games_details LIMIT 20''', conn)"
   ]
  },
  {
   "cell_type": "code",
   "execution_count": null,
   "metadata": {},
   "outputs": [],
   "source": []
  },
  {
   "cell_type": "code",
   "execution_count": null,
   "metadata": {},
   "outputs": [],
   "source": []
  }
 ],
 "metadata": {
  "kernelspec": {
   "display_name": "Python 3",
   "language": "python",
   "name": "python3"
  },
  "language_info": {
   "codemirror_mode": {
    "name": "ipython",
    "version": 3
   },
   "file_extension": ".py",
   "mimetype": "text/x-python",
   "name": "python",
   "nbconvert_exporter": "python",
   "pygments_lexer": "ipython3",
   "version": "3.6.10"
  }
 },
 "nbformat": 4,
 "nbformat_minor": 4
}
